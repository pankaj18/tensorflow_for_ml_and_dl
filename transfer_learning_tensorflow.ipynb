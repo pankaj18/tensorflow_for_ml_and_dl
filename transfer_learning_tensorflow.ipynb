{
  "nbformat": 4,
  "nbformat_minor": 0,
  "metadata": {
    "colab": {
      "name": "transfer_learning_tensorflow.ipynb",
      "provenance": [],
      "authorship_tag": "ABX9TyO1WXZS/lUqgJOqW4m2D9vE",
      "include_colab_link": true
    },
    "kernelspec": {
      "name": "python3",
      "display_name": "Python 3"
    },
    "accelerator": "GPU"
  },
  "cells": [
    {
      "cell_type": "markdown",
      "metadata": {
        "id": "view-in-github",
        "colab_type": "text"
      },
      "source": [
        "<a href=\"https://colab.research.google.com/github/pankaj18/tensorflow_for_ml_and_dl/blob/master/transfer_learning_tensorflow.ipynb\" target=\"_parent\"><img src=\"https://colab.research.google.com/assets/colab-badge.svg\" alt=\"Open In Colab\"/></a>"
      ]
    },
    {
      "cell_type": "code",
      "metadata": {
        "id": "6DlRQt8SjCLX",
        "colab_type": "code",
        "colab": {}
      },
      "source": [
        "import numpy as np\n",
        "import pandas as pd\n",
        "import matplotlib.pyplot as plt\n",
        "%matplotlib inline"
      ],
      "execution_count": 0,
      "outputs": []
    },
    {
      "cell_type": "code",
      "metadata": {
        "id": "t1pArkAWjSMZ",
        "colab_type": "code",
        "colab": {}
      },
      "source": [
        "import tensorflow as tf\n",
        "from tensorflow import keras\n",
        "from tensorflow.keras import layers\n",
        "from tensorflow.keras import Model"
      ],
      "execution_count": 0,
      "outputs": []
    },
    {
      "cell_type": "code",
      "metadata": {
        "id": "EB7QG03Aqj3V",
        "colab_type": "code",
        "colab": {}
      },
      "source": [
        "import os\n",
        "import zipfile\n"
      ],
      "execution_count": 0,
      "outputs": []
    },
    {
      "cell_type": "markdown",
      "metadata": {
        "id": "1PFXSK1xj0dj",
        "colab_type": "text"
      },
      "source": [
        "# download pretrained inception model"
      ]
    },
    {
      "cell_type": "code",
      "metadata": {
        "id": "dPpIFBIHjefi",
        "colab_type": "code",
        "colab": {
          "base_uri": "https://localhost:8080/",
          "height": 204
        },
        "outputId": "20d7e435-4df0-4d67-a355-c53afab23016"
      },
      "source": [
        "!wget --no-check-certificate \\\n",
        "    https://storage.googleapis.com/mledu-datasets/inception_v3_weights_tf_dim_ordering_tf_kernels_notop.h5 \\\n",
        "    -O /tmp/inception_v3_weights_tf_dim_ordering_tf_kernels_notop.h5"
      ],
      "execution_count": 4,
      "outputs": [
        {
          "output_type": "stream",
          "text": [
            "--2020-05-08 11:51:50--  https://storage.googleapis.com/mledu-datasets/inception_v3_weights_tf_dim_ordering_tf_kernels_notop.h5\n",
            "Resolving storage.googleapis.com (storage.googleapis.com)... 74.125.28.128, 2607:f8b0:400e:c07::80\n",
            "Connecting to storage.googleapis.com (storage.googleapis.com)|74.125.28.128|:443... connected.\n",
            "HTTP request sent, awaiting response... 200 OK\n",
            "Length: 87910968 (84M) [application/x-hdf]\n",
            "Saving to: ‘/tmp/inception_v3_weights_tf_dim_ordering_tf_kernels_notop.h5’\n",
            "\n",
            "\r          /tmp/ince   0%[                    ]       0  --.-KB/s               \r         /tmp/incep   9%[>                   ]   8.28M  41.4MB/s               \r        /tmp/incept  35%[======>             ]  29.94M  74.8MB/s               \r       /tmp/incepti  76%[==============>     ]  64.01M   101MB/s               \r/tmp/inception_v3_w 100%[===================>]  83.84M   112MB/s    in 0.8s    \n",
            "\n",
            "2020-05-08 11:51:51 (112 MB/s) - ‘/tmp/inception_v3_weights_tf_dim_ordering_tf_kernels_notop.h5’ saved [87910968/87910968]\n",
            "\n"
          ],
          "name": "stdout"
        }
      ]
    },
    {
      "cell_type": "code",
      "metadata": {
        "id": "7rwMhpKPj8Q8",
        "colab_type": "code",
        "colab": {}
      },
      "source": [
        "from tensorflow.keras.applications.inception_v3 import InceptionV3"
      ],
      "execution_count": 0,
      "outputs": []
    },
    {
      "cell_type": "code",
      "metadata": {
        "id": "w8ELRrfCkghy",
        "colab_type": "code",
        "colab": {}
      },
      "source": [
        "local_weights_file='/tmp/inception_v3_weights_tf_dim_ordering_tf_kernels_notop.h5'"
      ],
      "execution_count": 0,
      "outputs": []
    },
    {
      "cell_type": "code",
      "metadata": {
        "id": "fx3ZY-Iek31C",
        "colab_type": "code",
        "colab": {}
      },
      "source": [
        "pretrained_model=InceptionV3(input_shape=(150,150,3),include_top=False,weights=None)"
      ],
      "execution_count": 0,
      "outputs": []
    },
    {
      "cell_type": "code",
      "metadata": {
        "id": "bavgfRtCnXSb",
        "colab_type": "code",
        "colab": {}
      },
      "source": [
        "pretrained_model.load_weights(local_weights_file)"
      ],
      "execution_count": 0,
      "outputs": []
    },
    {
      "cell_type": "code",
      "metadata": {
        "id": "Dr6jmb98ni97",
        "colab_type": "code",
        "colab": {}
      },
      "source": [
        "#pretrained_model.summary()"
      ],
      "execution_count": 0,
      "outputs": []
    },
    {
      "cell_type": "code",
      "metadata": {
        "id": "vVz2uhXepKxX",
        "colab_type": "code",
        "colab": {
          "base_uri": "https://localhost:8080/",
          "height": 34
        },
        "outputId": "6047aab1-9515-41d2-b94f-aa0434b50c5f"
      },
      "source": [
        "last_layer=pretrained_model.get_layer('mixed7')\n",
        "print('last layer output shape: ', last_layer.output_shape)"
      ],
      "execution_count": 10,
      "outputs": [
        {
          "output_type": "stream",
          "text": [
            "last layer output shape:  (None, 7, 7, 768)\n"
          ],
          "name": "stdout"
        }
      ]
    },
    {
      "cell_type": "code",
      "metadata": {
        "id": "XzcdynCWpK1J",
        "colab_type": "code",
        "colab": {}
      },
      "source": [
        "last_output=last_layer.output"
      ],
      "execution_count": 0,
      "outputs": []
    },
    {
      "cell_type": "code",
      "metadata": {
        "id": "dPQ0MMg3pK7z",
        "colab_type": "code",
        "colab": {}
      },
      "source": [
        "#flatten last layer\n",
        "x=layers.Flatten()(last_output)\n",
        "x=layers.Dropout(0.2)(x)\n",
        "#add dense layer with 1024 hidden units and relu activation\n",
        "x=layers.Dense(1024,activation='relu')(x)\n",
        "x=layers.Dense(1,activation='sigmoid')(x)\n"
      ],
      "execution_count": 0,
      "outputs": []
    },
    {
      "cell_type": "code",
      "metadata": {
        "id": "H0sG9iqyrsXh",
        "colab_type": "code",
        "colab": {}
      },
      "source": [
        "from tensorflow.keras.optimizers import RMSprop\n",
        "model=Model(pretrained_model.input,x)\n",
        "model.compile(optimizer=RMSprop(lr=0.001),loss='binary_crossentropy',metrics=['accuracy'])"
      ],
      "execution_count": 0,
      "outputs": []
    },
    {
      "cell_type": "code",
      "metadata": {
        "id": "JKZ41QGjs20O",
        "colab_type": "code",
        "colab": {
          "base_uri": "https://localhost:8080/",
          "height": 204
        },
        "outputId": "230f295d-0c58-4ca1-926d-559219908f5e"
      },
      "source": [
        "!wget --no-check-certificate \\\n",
        "        https://storage.googleapis.com/mledu-datasets/cats_and_dogs_filtered.zip \\\n",
        "       -O /tmp/cats_and_dogs_filtered.zip\n",
        "\n",
        "from tensorflow.keras.preprocessing.image import ImageDataGenerator\n",
        "\n",
        "import os\n",
        "import zipfile\n",
        "\n",
        "local_zip = '//tmp/cats_and_dogs_filtered.zip'\n",
        "\n",
        "zip_ref = zipfile.ZipFile(local_zip, 'r')\n",
        "\n",
        "zip_ref.extractall('/tmp')\n",
        "zip_ref.close()\n",
        "\n",
        "# Define our example directories and files\n",
        "base_dir = '/tmp/cats_and_dogs_filtered'\n",
        "\n",
        "train_dir = os.path.join( base_dir, 'train')\n",
        "validation_dir = os.path.join( base_dir, 'validation')\n",
        "\n",
        "\n",
        "train_cats_dir = os.path.join(train_dir, 'cats') # Directory with our training cat pictures\n",
        "train_dogs_dir = os.path.join(train_dir, 'dogs') # Directory with our training dog pictures\n",
        "validation_cats_dir = os.path.join(validation_dir, 'cats') # Directory with our validation cat pictures\n",
        "validation_dogs_dir = os.path.join(validation_dir, 'dogs')# Directory with our validation dog pictures\n",
        "\n",
        "train_cat_fnames = os.listdir(train_cats_dir)\n",
        "train_dog_fnames = os.listdir(train_dogs_dir)"
      ],
      "execution_count": 16,
      "outputs": [
        {
          "output_type": "stream",
          "text": [
            "--2020-05-08 11:54:06--  https://storage.googleapis.com/mledu-datasets/cats_and_dogs_filtered.zip\n",
            "Resolving storage.googleapis.com (storage.googleapis.com)... 74.125.20.128, 2607:f8b0:400e:c07::80\n",
            "Connecting to storage.googleapis.com (storage.googleapis.com)|74.125.20.128|:443... connected.\n",
            "HTTP request sent, awaiting response... 200 OK\n",
            "Length: 68606236 (65M) [application/zip]\n",
            "Saving to: ‘/tmp/cats_and_dogs_filtered.zip’\n",
            "\n",
            "\r          /tmp/cats   0%[                    ]       0  --.-KB/s               \r         /tmp/cats_  12%[=>                  ]   8.01M  29.8MB/s               \r        /tmp/cats_a  73%[=============>      ]  48.01M  96.1MB/s               \r/tmp/cats_and_dogs_ 100%[===================>]  65.43M   119MB/s    in 0.6s    \n",
            "\n",
            "2020-05-08 11:54:07 (119 MB/s) - ‘/tmp/cats_and_dogs_filtered.zip’ saved [68606236/68606236]\n",
            "\n"
          ],
          "name": "stdout"
        }
      ]
    },
    {
      "cell_type": "code",
      "metadata": {
        "id": "bvZWG4PLHoJr",
        "colab_type": "code",
        "colab": {
          "base_uri": "https://localhost:8080/",
          "height": 51
        },
        "outputId": "228b340d-6813-459c-f4f1-36527d24a8d0"
      },
      "source": [
        "# Add our data-augmentation parameters to ImageDataGenerator\n",
        "train_datagen = ImageDataGenerator(rescale = 1./255.,\n",
        "                                   rotation_range = 40,\n",
        "                                   width_shift_range = 0.2,\n",
        "                                   height_shift_range = 0.2,\n",
        "                                   shear_range = 0.2,\n",
        "                                   zoom_range = 0.2,\n",
        "                                   horizontal_flip = True)\n",
        "\n",
        "# Note that the validation data should not be augmented!\n",
        "test_datagen = ImageDataGenerator( rescale = 1.0/255. )\n",
        "\n",
        "# Flow training images in batches of 20 using train_datagen generator\n",
        "train_generator = train_datagen.flow_from_directory(train_dir,\n",
        "                                                    batch_size = 20,\n",
        "                                                    class_mode = 'binary', \n",
        "                                                    target_size = (150, 150))     \n",
        "\n",
        "# Flow validation images in batches of 20 using test_datagen generator\n",
        "validation_generator =  test_datagen.flow_from_directory( validation_dir,\n",
        "                                                          batch_size  = 20,\n",
        "                                                          class_mode  = 'binary', \n",
        "                                                          target_size = (150, 150))"
      ],
      "execution_count": 17,
      "outputs": [
        {
          "output_type": "stream",
          "text": [
            "Found 2000 images belonging to 2 classes.\n",
            "Found 1000 images belonging to 2 classes.\n"
          ],
          "name": "stdout"
        }
      ]
    },
    {
      "cell_type": "code",
      "metadata": {
        "id": "guAk01I3HoUy",
        "colab_type": "code",
        "colab": {
          "base_uri": "https://localhost:8080/",
          "height": 697
        },
        "outputId": "b60307be-2635-4d18-d83a-6886d2de1126"
      },
      "source": [
        "history = model.fit(\n",
        "            train_generator,\n",
        "            validation_data = validation_generator,\n",
        "            steps_per_epoch = 100,\n",
        "            epochs = 20,\n",
        "            validation_steps = 50,\n",
        "            verbose = 2)"
      ],
      "execution_count": 18,
      "outputs": [
        {
          "output_type": "stream",
          "text": [
            "Epoch 1/20\n",
            "100/100 - 20s - loss: 0.7794 - accuracy: 0.7010 - val_loss: 29.6524 - val_accuracy: 0.5090\n",
            "Epoch 2/20\n",
            "100/100 - 19s - loss: 0.5049 - accuracy: 0.7830 - val_loss: 1441.5544 - val_accuracy: 0.4990\n",
            "Epoch 3/20\n",
            "100/100 - 18s - loss: 0.4519 - accuracy: 0.8230 - val_loss: 17.0419 - val_accuracy: 0.4940\n",
            "Epoch 4/20\n",
            "100/100 - 18s - loss: 0.3841 - accuracy: 0.8405 - val_loss: 2.5033 - val_accuracy: 0.8190\n",
            "Epoch 5/20\n",
            "100/100 - 18s - loss: 0.3958 - accuracy: 0.8520 - val_loss: 4.9323 - val_accuracy: 0.8610\n",
            "Epoch 6/20\n",
            "100/100 - 18s - loss: 0.3708 - accuracy: 0.8535 - val_loss: 3.1260 - val_accuracy: 0.8170\n",
            "Epoch 7/20\n",
            "100/100 - 18s - loss: 0.3739 - accuracy: 0.8615 - val_loss: 1.6836 - val_accuracy: 0.8380\n",
            "Epoch 8/20\n",
            "100/100 - 18s - loss: 0.3461 - accuracy: 0.8770 - val_loss: 9.4031 - val_accuracy: 0.6780\n",
            "Epoch 9/20\n",
            "100/100 - 18s - loss: 0.2771 - accuracy: 0.9000 - val_loss: 4.4955 - val_accuracy: 0.7190\n",
            "Epoch 10/20\n",
            "100/100 - 18s - loss: 0.2904 - accuracy: 0.8775 - val_loss: 2.2324 - val_accuracy: 0.8620\n",
            "Epoch 11/20\n",
            "100/100 - 18s - loss: 0.3078 - accuracy: 0.8755 - val_loss: 4.8659 - val_accuracy: 0.8600\n",
            "Epoch 12/20\n",
            "100/100 - 18s - loss: 0.2789 - accuracy: 0.8910 - val_loss: 10.7455 - val_accuracy: 0.7520\n",
            "Epoch 13/20\n",
            "100/100 - 18s - loss: 0.2674 - accuracy: 0.8950 - val_loss: 0.3968 - val_accuracy: 0.8950\n",
            "Epoch 14/20\n",
            "100/100 - 18s - loss: 0.2709 - accuracy: 0.9005 - val_loss: 18.3787 - val_accuracy: 0.7030\n",
            "Epoch 15/20\n",
            "100/100 - 18s - loss: 0.2354 - accuracy: 0.9045 - val_loss: 34.5090 - val_accuracy: 0.5600\n",
            "Epoch 16/20\n",
            "100/100 - 18s - loss: 0.2433 - accuracy: 0.9030 - val_loss: 0.3713 - val_accuracy: 0.9200\n",
            "Epoch 17/20\n",
            "100/100 - 18s - loss: 0.2371 - accuracy: 0.9160 - val_loss: 1.0512 - val_accuracy: 0.7590\n",
            "Epoch 18/20\n",
            "100/100 - 18s - loss: 0.2365 - accuracy: 0.9065 - val_loss: 0.5000 - val_accuracy: 0.9020\n",
            "Epoch 19/20\n",
            "100/100 - 18s - loss: 0.2558 - accuracy: 0.9145 - val_loss: 1.5879 - val_accuracy: 0.8300\n",
            "Epoch 20/20\n",
            "100/100 - 18s - loss: 0.2152 - accuracy: 0.9225 - val_loss: 5.9109 - val_accuracy: 0.8370\n"
          ],
          "name": "stdout"
        }
      ]
    },
    {
      "cell_type": "code",
      "metadata": {
        "id": "5brCML1mKkx4",
        "colab_type": "code",
        "colab": {}
      },
      "source": [
        "plt.style.use('dark_background')"
      ],
      "execution_count": 0,
      "outputs": []
    },
    {
      "cell_type": "code",
      "metadata": {
        "id": "lhxTllXVHogA",
        "colab_type": "code",
        "colab": {
          "base_uri": "https://localhost:8080/",
          "height": 298
        },
        "outputId": "df98cd3f-32b5-440c-e04b-b168d398a848"
      },
      "source": [
        "import matplotlib.pyplot as plt\n",
        "acc = history.history['accuracy']\n",
        "val_acc = history.history['val_accuracy']\n",
        "loss = history.history['loss']\n",
        "val_loss = history.history['val_loss']\n",
        "\n",
        "epochs = range(len(acc))\n",
        "\n",
        "plt.plot(epochs, acc, 'r', label='Training accuracy')\n",
        "plt.plot(epochs, val_acc, 'b', label='Validation accuracy')\n",
        "plt.title('Training and validation accuracy')\n",
        "plt.legend(loc=0)\n",
        "plt.figure()\n",
        "\n",
        "\n",
        "plt.show()"
      ],
      "execution_count": 21,
      "outputs": [
        {
          "output_type": "display_data",
          "data": {
            "image/png": "[encoded data removed]",
            "text/plain": [
              "<Figure size 432x288 with 1 Axes>"
            ]
          },
          "metadata": {
            "tags": []
          }
        },
        {
          "output_type": "display_data",
          "data": {
            "text/plain": [
              "<Figure size 432x288 with 0 Axes>"
            ]
          },
          "metadata": {
            "tags": []
          }
        }
      ]
    },
    {
      "cell_type": "code",
      "metadata": {
        "id": "dwOCllg2JEhu",
        "colab_type": "code",
        "colab": {}
      },
      "source": [
        ""
      ],
      "execution_count": 0,
      "outputs": []
    }
  ]
}