{
  "nbformat": 4,
  "nbformat_minor": 0,
  "metadata": {
    "colab": {
      "name": "transfer_learning_tensorflow.ipynb",
      "provenance": [],
      "authorship_tag": "ABX9TyO7jRBXp6OswD9XRDd2iztN",
      "include_colab_link": true
    },
    "kernelspec": {
      "name": "python3",
      "display_name": "Python 3"
    },
    "accelerator": "GPU"
  },
  "cells": [
    {
      "cell_type": "markdown",
      "metadata": {
        "id": "view-in-github",
        "colab_type": "text"
      },
      "source": [
        "<a href=\"https://colab.research.google.com/github/pankaj18/tensorflow_for_ml_and_dl/blob/master/transfer_learning_tensorflow.ipynb\" target=\"_parent\"><img src=\"https://colab.research.google.com/assets/colab-badge.svg\" alt=\"Open In Colab\"/></a>"
      ]
    },
    {
      "cell_type": "code",
      "metadata": {
        "id": "6DlRQt8SjCLX",
        "colab_type": "code",
        "colab": {}
      },
      "source": [
        "import numpy as np\n",
        "import pandas as pd\n",
        "import matplotlib.pyplot as plt\n",
        "%matplotlib inline"
      ],
      "execution_count": 0,
      "outputs": []
    },
    {
      "cell_type": "code",
      "metadata": {
        "id": "t1pArkAWjSMZ",
        "colab_type": "code",
        "colab": {}
      },
      "source": [
        "import tensorflow as tf\n",
        "from tensorflow import keras\n",
        "from tensorflow.keras import layers\n",
        "from tensorflow.keras import Model"
      ],
      "execution_count": 0,
      "outputs": []
    },
    {
      "cell_type": "code",
      "metadata": {
        "id": "EB7QG03Aqj3V",
        "colab_type": "code",
        "colab": {}
      },
      "source": [
        "import os\n",
        "import zipfile\n"
      ],
      "execution_count": 0,
      "outputs": []
    },
    {
      "cell_type": "markdown",
      "metadata": {
        "id": "1PFXSK1xj0dj",
        "colab_type": "text"
      },
      "source": [
        "# download pretrained inception model"
      ]
    },
    {
      "cell_type": "code",
      "metadata": {
        "id": "dPpIFBIHjefi",
        "colab_type": "code",
        "outputId": "b9b59148-7b88-482c-e660-bcfbb2bfcf7f",
        "colab": {
          "base_uri": "https://localhost:8080/",
          "height": 204
        }
      },
      "source": [
        "!wget --no-check-certificate \\\n",
        "    https://storage.googleapis.com/mledu-datasets/inception_v3_weights_tf_dim_ordering_tf_kernels_notop.h5 \\\n",
        "    -O /tmp/inception_v3_weights_tf_dim_ordering_tf_kernels_notop.h5"
      ],
      "execution_count": 4,
      "outputs": [
        {
          "output_type": "stream",
          "text": [
            "--2020-05-09 08:10:07--  https://storage.googleapis.com/mledu-datasets/inception_v3_weights_tf_dim_ordering_tf_kernels_notop.h5\n",
            "Resolving storage.googleapis.com (storage.googleapis.com)... 173.194.197.128, 2607:f8b0:4001:c1f::80\n",
            "Connecting to storage.googleapis.com (storage.googleapis.com)|173.194.197.128|:443... connected.\n",
            "HTTP request sent, awaiting response... 200 OK\n",
            "Length: 87910968 (84M) [application/x-hdf]\n",
            "Saving to: ‘/tmp/inception_v3_weights_tf_dim_ordering_tf_kernels_notop.h5’\n",
            "\n",
            "\r          /tmp/ince   0%[                    ]       0  --.-KB/s               \r         /tmp/incep  17%[==>                 ]  14.98M  74.9MB/s               \r        /tmp/incept  67%[============>       ]  56.55M   141MB/s               \r/tmp/inception_v3_w 100%[===================>]  83.84M   153MB/s    in 0.5s    \n",
            "\n",
            "2020-05-09 08:10:08 (153 MB/s) - ‘/tmp/inception_v3_weights_tf_dim_ordering_tf_kernels_notop.h5’ saved [87910968/87910968]\n",
            "\n"
          ],
          "name": "stdout"
        }
      ]
    },
    {
      "cell_type": "code",
      "metadata": {
        "id": "7rwMhpKPj8Q8",
        "colab_type": "code",
        "colab": {}
      },
      "source": [
        "from tensorflow.keras.applications.inception_v3 import InceptionV3"
      ],
      "execution_count": 0,
      "outputs": []
    },
    {
      "cell_type": "code",
      "metadata": {
        "id": "w8ELRrfCkghy",
        "colab_type": "code",
        "colab": {}
      },
      "source": [
        "local_weights_file='/tmp/inception_v3_weights_tf_dim_ordering_tf_kernels_notop.h5'"
      ],
      "execution_count": 0,
      "outputs": []
    },
    {
      "cell_type": "code",
      "metadata": {
        "id": "fx3ZY-Iek31C",
        "colab_type": "code",
        "colab": {}
      },
      "source": [
        "pretrained_model=InceptionV3(input_shape=(150,150,3),include_top=False,weights=None)"
      ],
      "execution_count": 0,
      "outputs": []
    },
    {
      "cell_type": "code",
      "metadata": {
        "id": "bavgfRtCnXSb",
        "colab_type": "code",
        "colab": {}
      },
      "source": [
        "pretrained_model.load_weights(local_weights_file)"
      ],
      "execution_count": 0,
      "outputs": []
    },
    {
      "cell_type": "code",
      "metadata": {
        "id": "Dr6jmb98ni97",
        "colab_type": "code",
        "colab": {}
      },
      "source": [
        "#pretrained_model.summary()"
      ],
      "execution_count": 0,
      "outputs": []
    },
    {
      "cell_type": "code",
      "metadata": {
        "id": "6IbzZjnWUEN6",
        "colab_type": "code",
        "colab": {}
      },
      "source": [
        "for layer in pretrained_model.layers:\n",
        "  layers.trainable=False"
      ],
      "execution_count": 0,
      "outputs": []
    },
    {
      "cell_type": "code",
      "metadata": {
        "id": "vVz2uhXepKxX",
        "colab_type": "code",
        "outputId": "9461ee10-38ba-4a77-a6b5-2e98add8f6bb",
        "colab": {
          "base_uri": "https://localhost:8080/",
          "height": 34
        }
      },
      "source": [
        "last_layer=pretrained_model.get_layer('mixed7')\n",
        "print('last layer output shape: ', last_layer.output_shape)"
      ],
      "execution_count": 11,
      "outputs": [
        {
          "output_type": "stream",
          "text": [
            "last layer output shape:  (None, 7, 7, 768)\n"
          ],
          "name": "stdout"
        }
      ]
    },
    {
      "cell_type": "code",
      "metadata": {
        "id": "XzcdynCWpK1J",
        "colab_type": "code",
        "colab": {}
      },
      "source": [
        "last_output=last_layer.output"
      ],
      "execution_count": 0,
      "outputs": []
    },
    {
      "cell_type": "code",
      "metadata": {
        "id": "dPQ0MMg3pK7z",
        "colab_type": "code",
        "colab": {}
      },
      "source": [
        "#flatten last layer\n",
        "x=layers.Flatten()(last_output)\n",
        "\n",
        "#add dense layer with 1024 hidden units and relu activation\n",
        "x=layers.Dense(128,activation='relu')(x)\n",
        "x=layers.Dropout(0.4)(x)\n",
        "x=layers.Dense(1,activation='sigmoid')(x)\n"
      ],
      "execution_count": 0,
      "outputs": []
    },
    {
      "cell_type": "code",
      "metadata": {
        "id": "H0sG9iqyrsXh",
        "colab_type": "code",
        "colab": {}
      },
      "source": [
        "from tensorflow.keras.optimizers import RMSprop\n",
        "model=Model(pretrained_model.input,x)\n",
        "model.compile(optimizer=RMSprop(lr=0.00001),loss='binary_crossentropy',metrics=['accuracy'])"
      ],
      "execution_count": 0,
      "outputs": []
    },
    {
      "cell_type": "code",
      "metadata": {
        "id": "JKZ41QGjs20O",
        "colab_type": "code",
        "outputId": "9352ce54-853f-43e7-de71-212d8bae07c7",
        "colab": {
          "base_uri": "https://localhost:8080/",
          "height": 204
        }
      },
      "source": [
        "!wget --no-check-certificate \\\n",
        "        https://storage.googleapis.com/mledu-datasets/cats_and_dogs_filtered.zip \\\n",
        "       -O /tmp/cats_and_dogs_filtered.zip\n",
        "\n",
        "from tensorflow.keras.preprocessing.image import ImageDataGenerator\n",
        "\n",
        "import os\n",
        "import zipfile\n",
        "\n",
        "local_zip = '//tmp/cats_and_dogs_filtered.zip'\n",
        "\n",
        "zip_ref = zipfile.ZipFile(local_zip, 'r')\n",
        "\n",
        "zip_ref.extractall('/tmp')\n",
        "zip_ref.close()\n",
        "\n",
        "# Define our example directories and files\n",
        "base_dir = '/tmp/cats_and_dogs_filtered'\n",
        "\n",
        "train_dir = os.path.join( base_dir, 'train')\n",
        "validation_dir = os.path.join( base_dir, 'validation')\n",
        "\n",
        "\n",
        "train_cats_dir = os.path.join(train_dir, 'cats') # Directory with our training cat pictures\n",
        "train_dogs_dir = os.path.join(train_dir, 'dogs') # Directory with our training dog pictures\n",
        "validation_cats_dir = os.path.join(validation_dir, 'cats') # Directory with our validation cat pictures\n",
        "validation_dogs_dir = os.path.join(validation_dir, 'dogs')# Directory with our validation dog pictures\n",
        "\n",
        "train_cat_fnames = os.listdir(train_cats_dir)\n",
        "train_dog_fnames = os.listdir(train_dogs_dir)"
      ],
      "execution_count": 15,
      "outputs": [
        {
          "output_type": "stream",
          "text": [
            "--2020-05-09 08:10:16--  https://storage.googleapis.com/mledu-datasets/cats_and_dogs_filtered.zip\n",
            "Resolving storage.googleapis.com (storage.googleapis.com)... 108.177.111.128, 2607:f8b0:4001:c07::80\n",
            "Connecting to storage.googleapis.com (storage.googleapis.com)|108.177.111.128|:443... connected.\n",
            "HTTP request sent, awaiting response... 200 OK\n",
            "Length: 68606236 (65M) [application/zip]\n",
            "Saving to: ‘/tmp/cats_and_dogs_filtered.zip’\n",
            "\n",
            "\r          /tmp/cats   0%[                    ]       0  --.-KB/s               \r         /tmp/cats_  31%[=====>              ]  20.62M   103MB/s               \r/tmp/cats_and_dogs_ 100%[===================>]  65.43M   179MB/s    in 0.4s    \n",
            "\n",
            "2020-05-09 08:10:17 (179 MB/s) - ‘/tmp/cats_and_dogs_filtered.zip’ saved [68606236/68606236]\n",
            "\n"
          ],
          "name": "stdout"
        }
      ]
    },
    {
      "cell_type": "code",
      "metadata": {
        "id": "bvZWG4PLHoJr",
        "colab_type": "code",
        "outputId": "70ea4b79-41ee-4627-9c49-e3bc5fc2e46f",
        "colab": {
          "base_uri": "https://localhost:8080/",
          "height": 51
        }
      },
      "source": [
        "# Add our data-augmentation parameters to ImageDataGenerator\n",
        "train_datagen = ImageDataGenerator(rescale = 1./255.,\n",
        "                                   rotation_range = 40,\n",
        "                                   width_shift_range = 0.2,\n",
        "                                   height_shift_range = 0.2,\n",
        "                                   shear_range = 0.2,\n",
        "                                   zoom_range = 0.2,\n",
        "                                   horizontal_flip = True)\n",
        "\n",
        "# Note that the validation data should not be augmented!\n",
        "test_datagen = ImageDataGenerator( rescale = 1.0/255. )\n",
        "\n",
        "# Flow training images in batches of 20 using train_datagen generator\n",
        "train_generator = train_datagen.flow_from_directory(train_dir,\n",
        "                                                    batch_size = 20,\n",
        "                                                    class_mode = 'binary', \n",
        "                                                    target_size = (150, 150))     \n",
        "\n",
        "# Flow validation images in batches of 20 using test_datagen generator\n",
        "validation_generator =  test_datagen.flow_from_directory( validation_dir,\n",
        "                                                          batch_size  = 20,\n",
        "                                                          class_mode  = 'binary', \n",
        "                                                          target_size = (150, 150))"
      ],
      "execution_count": 16,
      "outputs": [
        {
          "output_type": "stream",
          "text": [
            "Found 2000 images belonging to 2 classes.\n",
            "Found 1000 images belonging to 2 classes.\n"
          ],
          "name": "stdout"
        }
      ]
    },
    {
      "cell_type": "code",
      "metadata": {
        "id": "guAk01I3HoUy",
        "colab_type": "code",
        "outputId": "4ec7ee2f-af30-4b38-8cdf-e6c7a0602535",
        "colab": {
          "base_uri": "https://localhost:8080/",
          "height": 697
        }
      },
      "source": [
        "history = model.fit(\n",
        "            train_generator,\n",
        "            validation_data = validation_generator,\n",
        "            steps_per_epoch = 100,\n",
        "            epochs = 20,\n",
        "            validation_steps = 50,\n",
        "            verbose = 2)"
      ],
      "execution_count": 17,
      "outputs": [
        {
          "output_type": "stream",
          "text": [
            "Epoch 1/20\n",
            "100/100 - 27s - loss: 0.6209 - accuracy: 0.6755 - val_loss: 0.4236 - val_accuracy: 0.8340\n",
            "Epoch 2/20\n",
            "100/100 - 26s - loss: 0.4954 - accuracy: 0.7765 - val_loss: 0.3191 - val_accuracy: 0.8670\n",
            "Epoch 3/20\n",
            "100/100 - 26s - loss: 0.3818 - accuracy: 0.8355 - val_loss: 0.2467 - val_accuracy: 0.8980\n",
            "Epoch 4/20\n",
            "100/100 - 26s - loss: 0.3107 - accuracy: 0.8730 - val_loss: 0.2020 - val_accuracy: 0.9120\n",
            "Epoch 5/20\n",
            "100/100 - 26s - loss: 0.2665 - accuracy: 0.8905 - val_loss: 0.1698 - val_accuracy: 0.9250\n",
            "Epoch 6/20\n",
            "100/100 - 26s - loss: 0.2530 - accuracy: 0.8950 - val_loss: 0.1557 - val_accuracy: 0.9400\n",
            "Epoch 7/20\n",
            "100/100 - 26s - loss: 0.2245 - accuracy: 0.9105 - val_loss: 0.1366 - val_accuracy: 0.9410\n",
            "Epoch 8/20\n",
            "100/100 - 26s - loss: 0.1948 - accuracy: 0.9185 - val_loss: 0.1396 - val_accuracy: 0.9450\n",
            "Epoch 9/20\n",
            "100/100 - 26s - loss: 0.1947 - accuracy: 0.9125 - val_loss: 0.1228 - val_accuracy: 0.9480\n",
            "Epoch 10/20\n",
            "100/100 - 26s - loss: 0.1804 - accuracy: 0.9255 - val_loss: 0.1338 - val_accuracy: 0.9450\n",
            "Epoch 11/20\n",
            "100/100 - 26s - loss: 0.1694 - accuracy: 0.9295 - val_loss: 0.1047 - val_accuracy: 0.9560\n",
            "Epoch 12/20\n",
            "100/100 - 26s - loss: 0.1525 - accuracy: 0.9430 - val_loss: 0.1097 - val_accuracy: 0.9560\n",
            "Epoch 13/20\n",
            "100/100 - 26s - loss: 0.1284 - accuracy: 0.9495 - val_loss: 0.1046 - val_accuracy: 0.9580\n",
            "Epoch 14/20\n",
            "100/100 - 26s - loss: 0.1383 - accuracy: 0.9485 - val_loss: 0.1119 - val_accuracy: 0.9540\n",
            "Epoch 15/20\n",
            "100/100 - 26s - loss: 0.1336 - accuracy: 0.9410 - val_loss: 0.1027 - val_accuracy: 0.9620\n",
            "Epoch 16/20\n",
            "100/100 - 26s - loss: 0.1168 - accuracy: 0.9580 - val_loss: 0.1013 - val_accuracy: 0.9590\n",
            "Epoch 17/20\n",
            "100/100 - 26s - loss: 0.1175 - accuracy: 0.9555 - val_loss: 0.1086 - val_accuracy: 0.9570\n",
            "Epoch 18/20\n",
            "100/100 - 26s - loss: 0.1161 - accuracy: 0.9540 - val_loss: 0.0988 - val_accuracy: 0.9600\n",
            "Epoch 19/20\n",
            "100/100 - 26s - loss: 0.1212 - accuracy: 0.9515 - val_loss: 0.0913 - val_accuracy: 0.9560\n",
            "Epoch 20/20\n",
            "100/100 - 26s - loss: 0.1023 - accuracy: 0.9565 - val_loss: 0.1057 - val_accuracy: 0.9530\n"
          ],
          "name": "stdout"
        }
      ]
    },
    {
      "cell_type": "code",
      "metadata": {
        "id": "5brCML1mKkx4",
        "colab_type": "code",
        "colab": {}
      },
      "source": [
        "plt.style.use('dark_background')"
      ],
      "execution_count": 0,
      "outputs": []
    },
    {
      "cell_type": "code",
      "metadata": {
        "id": "lhxTllXVHogA",
        "colab_type": "code",
        "outputId": "7816d2ef-1597-49ec-8e98-208d07a05f79",
        "colab": {
          "base_uri": "https://localhost:8080/",
          "height": 298
        }
      },
      "source": [
        "import matplotlib.pyplot as plt\n",
        "acc = history.history['accuracy']\n",
        "val_acc = history.history['val_accuracy']\n",
        "loss = history.history['loss']\n",
        "val_loss = history.history['val_loss']\n",
        "\n",
        "epochs = range(len(acc))\n",
        "\n",
        "plt.plot(epochs, acc, 'r', label='Training accuracy')\n",
        "plt.plot(epochs, val_acc, 'b', label='Validation accuracy')\n",
        "plt.title('Training and validation accuracy')\n",
        "plt.legend(loc=0)\n",
        "plt.figure()\n",
        "\n",
        "\n",
        "plt.show()"
      ],
      "execution_count": 19,
      "outputs": [
        {
          "output_type": "display_data",
          "data": {
            "image/png": "[encoded data removed]",
            "text/plain": [
              "<Figure size 432x288 with 1 Axes>"
            ]
          },
          "metadata": {
            "tags": []
          }
        },
        {
          "output_type": "display_data",
          "data": {
            "text/plain": [
              "<Figure size 432x288 with 0 Axes>"
            ]
          },
          "metadata": {
            "tags": []
          }
        }
      ]
    },
    {
      "cell_type": "code",
      "metadata": {
        "id": "dwOCllg2JEhu",
        "colab_type": "code",
        "colab": {}
      },
      "source": [
        ""
      ],
      "execution_count": 0,
      "outputs": []
    }
  ]
}