{
  "nbformat": 4,
  "nbformat_minor": 0,
  "metadata": {
    "colab": {
      "name": "mnist_fashion_nn.ipynb",
      "provenance": [],
      "authorship_tag": "ABX9TyM30uOUtdxg3gFtno5eZdyc",
      "include_colab_link": true
    },
    "kernelspec": {
      "name": "python3",
      "display_name": "Python 3"
    },
    "accelerator": "GPU"
  },
  "cells": [
    {
      "cell_type": "markdown",
      "metadata": {
        "id": "view-in-github",
        "colab_type": "text"
      },
      "source": [
        "<a href=\"https://colab.research.google.com/github/pankaj18/tensorflow_for_ml_and_dl/blob/master/mnist_fashion_nn.ipynb\" target=\"_parent\"><img src=\"https://colab.research.google.com/assets/colab-badge.svg\" alt=\"Open In Colab\"/></a>"
      ]
    },
    {
      "cell_type": "markdown",
      "metadata": {
        "id": "T5e75svhIR6k",
        "colab_type": "text"
      },
      "source": [
        ""
      ]
    },
    {
      "cell_type": "markdown",
      "metadata": {
        "id": "A-ubTK4HBSE5",
        "colab_type": "text"
      },
      "source": [
        "Classify mnist fashion images using neural network"
      ]
    },
    {
      "cell_type": "code",
      "metadata": {
        "id": "UIFmm9SyIX5O",
        "colab_type": "code",
        "colab": {}
      },
      "source": [
        "import numpy as np\n",
        "import tensorflow as tf\n",
        "from tensorflow import keras\n",
        "import matplotlib.pyplot as plt\n",
        "%matplotlib inline"
      ],
      "execution_count": 0,
      "outputs": []
    },
    {
      "cell_type": "code",
      "metadata": {
        "id": "gCFbCmoEInNw",
        "colab_type": "code",
        "colab": {}
      },
      "source": [
        "mnist=keras.datasets.fashion_mnist"
      ],
      "execution_count": 0,
      "outputs": []
    },
    {
      "cell_type": "code",
      "metadata": {
        "id": "NllOA8J9BZT5",
        "colab_type": "code",
        "outputId": "e070d1c0-f35c-4089-fe62-b34bd1c23607",
        "colab": {
          "base_uri": "https://localhost:8080/",
          "height": 54
        }
      },
      "source": [
        "mnist"
      ],
      "execution_count": 56,
      "outputs": [
        {
          "output_type": "execute_result",
          "data": {
            "text/plain": [
              "<module 'tensorflow.keras.datasets.fashion_mnist' from '/usr/local/lib/python3.6/dist-packages/tensorflow/keras/datasets/fashion_mnist/__init__.py'>"
            ]
          },
          "metadata": {
            "tags": []
          },
          "execution_count": 56
        }
      ]
    },
    {
      "cell_type": "code",
      "metadata": {
        "id": "u592lU1yBtFN",
        "colab_type": "code",
        "colab": {}
      },
      "source": [
        "(x_train,y_train),(x_test,y_test)=mnist.load_data()"
      ],
      "execution_count": 0,
      "outputs": []
    },
    {
      "cell_type": "code",
      "metadata": {
        "id": "rlZPt5fMCAeE",
        "colab_type": "code",
        "outputId": "f0cfdc7b-47c5-4050-d8ec-458b2c3355ba",
        "colab": {
          "base_uri": "https://localhost:8080/",
          "height": 34
        }
      },
      "source": [
        "print(\"train_size\"+str(x_train.shape))"
      ],
      "execution_count": 58,
      "outputs": [
        {
          "output_type": "stream",
          "text": [
            "train_size(60000, 28, 28)\n"
          ],
          "name": "stdout"
        }
      ]
    },
    {
      "cell_type": "code",
      "metadata": {
        "id": "1IdZEguwCKJq",
        "colab_type": "code",
        "outputId": "82d6a1f2-b92c-4931-dbd9-e7b483850847",
        "colab": {
          "base_uri": "https://localhost:8080/",
          "height": 34
        }
      },
      "source": [
        "print(\"test_size\"+str(x_test.shape))"
      ],
      "execution_count": 59,
      "outputs": [
        {
          "output_type": "stream",
          "text": [
            "test_size(10000, 28, 28)\n"
          ],
          "name": "stdout"
        }
      ]
    },
    {
      "cell_type": "code",
      "metadata": {
        "id": "jjYTgq6tCSR6",
        "colab_type": "code",
        "outputId": "50176569-9c38-4a13-ecd9-6d0b526c81fb",
        "colab": {
          "base_uri": "https://localhost:8080/",
          "height": 34
        }
      },
      "source": [
        "print(\"train_label_size\"+str(y_train.shape)+\" ,\"+\"test_label_size\"+str(y_test.shape))"
      ],
      "execution_count": 60,
      "outputs": [
        {
          "output_type": "stream",
          "text": [
            "train_label_size(60000,) ,test_label_size(10000,)\n"
          ],
          "name": "stdout"
        }
      ]
    },
    {
      "cell_type": "code",
      "metadata": {
        "id": "eaAAeurFCg7b",
        "colab_type": "code",
        "outputId": "1e3a1fc2-804e-49d2-cf9f-3125e0d91293",
        "colab": {
          "base_uri": "https://localhost:8080/",
          "height": 1000
        }
      },
      "source": [
        "print('label:'+str(y_train[0]))\n",
        "print(x_train[0])\n",
        "plt.imshow(x_train[0])"
      ],
      "execution_count": 61,
      "outputs": [
        {
          "output_type": "stream",
          "text": [
            "label:9\n",
            "[[  0   0   0   0   0   0   0   0   0   0   0   0   0   0   0   0   0   0\n",
            "    0   0   0   0   0   0   0   0   0   0]\n",
            " [  0   0   0   0   0   0   0   0   0   0   0   0   0   0   0   0   0   0\n",
            "    0   0   0   0   0   0   0   0   0   0]\n",
            " [  0   0   0   0   0   0   0   0   0   0   0   0   0   0   0   0   0   0\n",
            "    0   0   0   0   0   0   0   0   0   0]\n",
            " [  0   0   0   0   0   0   0   0   0   0   0   0   1   0   0  13  73   0\n",
            "    0   1   4   0   0   0   0   1   1   0]\n",
            " [  0   0   0   0   0   0   0   0   0   0   0   0   3   0  36 136 127  62\n",
            "   54   0   0   0   1   3   4   0   0   3]\n",
            " [  0   0   0   0   0   0   0   0   0   0   0   0   6   0 102 204 176 134\n",
            "  144 123  23   0   0   0   0  12  10   0]\n",
            " [  0   0   0   0   0   0   0   0   0   0   0   0   0   0 155 236 207 178\n",
            "  107 156 161 109  64  23  77 130  72  15]\n",
            " [  0   0   0   0   0   0   0   0   0   0   0   1   0  69 207 223 218 216\n",
            "  216 163 127 121 122 146 141  88 172  66]\n",
            " [  0   0   0   0   0   0   0   0   0   1   1   1   0 200 232 232 233 229\n",
            "  223 223 215 213 164 127 123 196 229   0]\n",
            " [  0   0   0   0   0   0   0   0   0   0   0   0   0 183 225 216 223 228\n",
            "  235 227 224 222 224 221 223 245 173   0]\n",
            " [  0   0   0   0   0   0   0   0   0   0   0   0   0 193 228 218 213 198\n",
            "  180 212 210 211 213 223 220 243 202   0]\n",
            " [  0   0   0   0   0   0   0   0   0   1   3   0  12 219 220 212 218 192\n",
            "  169 227 208 218 224 212 226 197 209  52]\n",
            " [  0   0   0   0   0   0   0   0   0   0   6   0  99 244 222 220 218 203\n",
            "  198 221 215 213 222 220 245 119 167  56]\n",
            " [  0   0   0   0   0   0   0   0   0   4   0   0  55 236 228 230 228 240\n",
            "  232 213 218 223 234 217 217 209  92   0]\n",
            " [  0   0   1   4   6   7   2   0   0   0   0   0 237 226 217 223 222 219\n",
            "  222 221 216 223 229 215 218 255  77   0]\n",
            " [  0   3   0   0   0   0   0   0   0  62 145 204 228 207 213 221 218 208\n",
            "  211 218 224 223 219 215 224 244 159   0]\n",
            " [  0   0   0   0  18  44  82 107 189 228 220 222 217 226 200 205 211 230\n",
            "  224 234 176 188 250 248 233 238 215   0]\n",
            " [  0  57 187 208 224 221 224 208 204 214 208 209 200 159 245 193 206 223\n",
            "  255 255 221 234 221 211 220 232 246   0]\n",
            " [  3 202 228 224 221 211 211 214 205 205 205 220 240  80 150 255 229 221\n",
            "  188 154 191 210 204 209 222 228 225   0]\n",
            " [ 98 233 198 210 222 229 229 234 249 220 194 215 217 241  65  73 106 117\n",
            "  168 219 221 215 217 223 223 224 229  29]\n",
            " [ 75 204 212 204 193 205 211 225 216 185 197 206 198 213 240 195 227 245\n",
            "  239 223 218 212 209 222 220 221 230  67]\n",
            " [ 48 203 183 194 213 197 185 190 194 192 202 214 219 221 220 236 225 216\n",
            "  199 206 186 181 177 172 181 205 206 115]\n",
            " [  0 122 219 193 179 171 183 196 204 210 213 207 211 210 200 196 194 191\n",
            "  195 191 198 192 176 156 167 177 210  92]\n",
            " [  0   0  74 189 212 191 175 172 175 181 185 188 189 188 193 198 204 209\n",
            "  210 210 211 188 188 194 192 216 170   0]\n",
            " [  2   0   0   0  66 200 222 237 239 242 246 243 244 221 220 193 191 179\n",
            "  182 182 181 176 166 168  99  58   0   0]\n",
            " [  0   0   0   0   0   0   0  40  61  44  72  41  35   0   0   0   0   0\n",
            "    0   0   0   0   0   0   0   0   0   0]\n",
            " [  0   0   0   0   0   0   0   0   0   0   0   0   0   0   0   0   0   0\n",
            "    0   0   0   0   0   0   0   0   0   0]\n",
            " [  0   0   0   0   0   0   0   0   0   0   0   0   0   0   0   0   0   0\n",
            "    0   0   0   0   0   0   0   0   0   0]]\n"
          ],
          "name": "stdout"
        },
        {
          "output_type": "execute_result",
          "data": {
            "text/plain": [
              "<matplotlib.image.AxesImage at 0x7fdadc04e780>"
            ]
          },
          "metadata": {
            "tags": []
          },
          "execution_count": 61
        },
        {
          "output_type": "display_data",
          "data": {
            "image/png": "[encoded data removed]",
            "text/plain": [
              "<Figure size 432x288 with 1 Axes>"
            ]
          },
          "metadata": {
            "tags": [],
            "needs_background": "dark"
          }
        }
      ]
    },
    {
      "cell_type": "code",
      "metadata": {
        "id": "iCHFvrcRD8nl",
        "colab_type": "code",
        "colab": {}
      },
      "source": [
        "#normalize training and testing data\n",
        "x_train=x_train/255\n",
        "x_test=x_test/255"
      ],
      "execution_count": 0,
      "outputs": []
    },
    {
      "cell_type": "markdown",
      "metadata": {
        "id": "NPrqIs9yEqIu",
        "colab_type": "text"
      },
      "source": [
        "Create basic inital model"
      ]
    },
    {
      "cell_type": "code",
      "metadata": {
        "id": "7bCK4TRtEli9",
        "colab_type": "code",
        "colab": {}
      },
      "source": [
        "model=keras.Sequential()\n",
        "model.add(keras.layers.Flatten())\n",
        "model.add(keras.layers.Dense(64,activation=tf.nn.relu))\n",
        "model.add(keras.layers.Dense(10,activation=tf.nn.softmax))"
      ],
      "execution_count": 0,
      "outputs": []
    },
    {
      "cell_type": "code",
      "metadata": {
        "id": "As-2fqMuFHRJ",
        "colab_type": "code",
        "colab": {}
      },
      "source": [
        "model.compile(optimizer=tf.optimizers.Adam(),loss='sparse_categorical_crossentropy',metrics=['accuracy'])"
      ],
      "execution_count": 0,
      "outputs": []
    },
    {
      "cell_type": "code",
      "metadata": {
        "id": "wqaGeuy0FJK8",
        "colab_type": "code",
        "outputId": "ae57a8df-5627-47dc-d635-9ce47228d222",
        "colab": {
          "base_uri": "https://localhost:8080/",
          "height": 204
        }
      },
      "source": [
        "model.fit(x_train,y_train,batch_size=128,epochs=5)"
      ],
      "execution_count": 65,
      "outputs": [
        {
          "output_type": "stream",
          "text": [
            "Epoch 1/5\n",
            "469/469 [==============================] - 1s 2ms/step - loss: 0.5993 - accuracy: 0.7972\n",
            "Epoch 2/5\n",
            "469/469 [==============================] - 1s 2ms/step - loss: 0.4270 - accuracy: 0.8515\n",
            "Epoch 3/5\n",
            "469/469 [==============================] - 1s 2ms/step - loss: 0.3874 - accuracy: 0.8636\n",
            "Epoch 4/5\n",
            "469/469 [==============================] - 1s 2ms/step - loss: 0.3654 - accuracy: 0.8717\n",
            "Epoch 5/5\n",
            "469/469 [==============================] - 1s 2ms/step - loss: 0.3477 - accuracy: 0.8763\n"
          ],
          "name": "stdout"
        },
        {
          "output_type": "execute_result",
          "data": {
            "text/plain": [
              "<tensorflow.python.keras.callbacks.History at 0x7fdad176aba8>"
            ]
          },
          "metadata": {
            "tags": []
          },
          "execution_count": 65
        }
      ]
    },
    {
      "cell_type": "code",
      "metadata": {
        "id": "14ZVrZLhIj6Y",
        "colab_type": "code",
        "outputId": "bb851eec-5c53-4fe5-9001-db649135f276",
        "colab": {
          "base_uri": "https://localhost:8080/",
          "height": 255
        }
      },
      "source": [
        "model.summary()"
      ],
      "execution_count": 66,
      "outputs": [
        {
          "output_type": "stream",
          "text": [
            "Model: \"sequential_11\"\n",
            "_________________________________________________________________\n",
            "Layer (type)                 Output Shape              Param #   \n",
            "=================================================================\n",
            "flatten_11 (Flatten)         multiple                  0         \n",
            "_________________________________________________________________\n",
            "dense_24 (Dense)             multiple                  50240     \n",
            "_________________________________________________________________\n",
            "dense_25 (Dense)             multiple                  650       \n",
            "=================================================================\n",
            "Total params: 50,890\n",
            "Trainable params: 50,890\n",
            "Non-trainable params: 0\n",
            "_________________________________________________________________\n"
          ],
          "name": "stdout"
        }
      ]
    },
    {
      "cell_type": "code",
      "metadata": {
        "id": "eTdfT0yjGF3L",
        "colab_type": "code",
        "outputId": "32c009de-d805-41a9-e9d1-e49a7c384918",
        "colab": {
          "base_uri": "https://localhost:8080/",
          "height": 51
        }
      },
      "source": [
        "model.evaluate(x_test,y_test)"
      ],
      "execution_count": 67,
      "outputs": [
        {
          "output_type": "stream",
          "text": [
            "313/313 [==============================] - 1s 2ms/step - loss: 0.3901 - accuracy: 0.8606\n"
          ],
          "name": "stdout"
        },
        {
          "output_type": "execute_result",
          "data": {
            "text/plain": [
              "[0.3900660276412964, 0.8605999946594238]"
            ]
          },
          "metadata": {
            "tags": []
          },
          "execution_count": 67
        }
      ]
    },
    {
      "cell_type": "code",
      "metadata": {
        "id": "YECbCsddJL8Q",
        "colab_type": "code",
        "colab": {}
      },
      "source": [
        "classification=model.predict(x_test)"
      ],
      "execution_count": 0,
      "outputs": []
    },
    {
      "cell_type": "code",
      "metadata": {
        "id": "chznvXUbcFbI",
        "colab_type": "code",
        "outputId": "c78bef55-aad7-48ab-da1f-429274323e8a",
        "colab": {
          "base_uri": "https://localhost:8080/",
          "height": 85
        }
      },
      "source": [
        "print(\"predicted_probabilites_label 0\"+str(classification[0]))\n",
        "print(\"y_predicted_label_0\"+str(np.argmax(classification[0])))\n",
        "print(\"y_test_label 0\"+str(y_test[0]))"
      ],
      "execution_count": 69,
      "outputs": [
        {
          "output_type": "stream",
          "text": [
            "predicted_probabilites_label 0[2.3979735e-05 1.7970632e-07 6.6588941e-06 2.7506489e-05 3.0873864e-05\n",
            " 8.1267908e-02 7.3834904e-05 1.7391533e-01 1.1103923e-02 7.3354983e-01]\n",
            "y_predicted_label_09\n",
            "y_test_label 09\n"
          ],
          "name": "stdout"
        }
      ]
    },
    {
      "cell_type": "code",
      "metadata": {
        "id": "ZSDh5GLZcvmt",
        "colab_type": "code",
        "outputId": "22d83851-d44a-428b-9460-4d342fb4018e",
        "colab": {
          "base_uri": "https://localhost:8080/",
          "height": 282
        }
      },
      "source": [
        "plt.style.use(\"dark_background\")\n",
        "plt.bar(np.arange(0,10),classification[0])\n"
      ],
      "execution_count": 70,
      "outputs": [
        {
          "output_type": "execute_result",
          "data": {
            "text/plain": [
              "<BarContainer object of 10 artists>"
            ]
          },
          "metadata": {
            "tags": []
          },
          "execution_count": 70
        },
        {
          "output_type": "display_data",
          "data": {
            "image/png": "[encoded data removed]",
            "text/plain": [
              "<Figure size 432x288 with 1 Axes>"
            ]
          },
          "metadata": {
            "tags": []
          }
        }
      ]
    },
    {
      "cell_type": "code",
      "metadata": {
        "id": "8MVCymc2dpYf",
        "colab_type": "code",
        "colab": {}
      },
      "source": [
        "import seaborn as sns"
      ],
      "execution_count": 0,
      "outputs": []
    },
    {
      "cell_type": "code",
      "metadata": {
        "id": "919FtwM4edk5",
        "colab_type": "code",
        "outputId": "9c3d4845-7c59-4053-f284-d5da350a40c6",
        "colab": {
          "base_uri": "https://localhost:8080/",
          "height": 282
        }
      },
      "source": [
        "plt.style.use(\"dark_background\")\n",
        "sns.barplot(np.arange(0,10),classification[0])"
      ],
      "execution_count": 72,
      "outputs": [
        {
          "output_type": "execute_result",
          "data": {
            "text/plain": [
              "<matplotlib.axes._subplots.AxesSubplot at 0x7fdacf587a58>"
            ]
          },
          "metadata": {
            "tags": []
          },
          "execution_count": 72
        },
        {
          "output_type": "display_data",
          "data": {
            "image/png": "[encoded data removed]",
            "text/plain": [
              "<Figure size 432x288 with 1 Axes>"
            ]
          },
          "metadata": {
            "tags": []
          }
        }
      ]
    },
    {
      "cell_type": "markdown",
      "metadata": {
        "id": "6jI_19SfhqYw",
        "colab_type": "text"
      },
      "source": [
        "Increasing number of neurons=128"
      ]
    },
    {
      "cell_type": "code",
      "metadata": {
        "id": "3vhuouqJhw9p",
        "colab_type": "code",
        "outputId": "5216e7da-7129-4d9c-d0c4-99a61b1fa31a",
        "colab": {
          "base_uri": "https://localhost:8080/",
          "height": 588
        }
      },
      "source": [
        "model=keras.Sequential()\n",
        "model.add(keras.layers.Flatten())\n",
        "model.add(keras.layers.Dense(128,activation=tf.nn.relu))\n",
        "model.add(keras.layers.Dense(10,activation=tf.nn.softmax))\n",
        "model.compile(optimizer=tf.optimizers.Adam(),loss='sparse_categorical_crossentropy',metrics=['accuracy'])\n",
        "model.fit(x_train,y_train,batch_size=128,epochs=5)\n",
        "print(\"%%%%%%%%%%%%%%%%%%%%%%%%%%%%%%%%%%%%\")\n",
        "print(\"evaluation\")\n",
        "model.evaluate(x_test,y_test)\n",
        "classification=model.predict(x_test)\n",
        "print(\"predicted_probabilites_label 0\"+str(classification[0]))\n",
        "print(\"y_predicted_label_0\"+str(np.argmax(classification[0])))\n",
        "print(\"y_test_label 0\"+str(y_test[0]))\n",
        "plt.style.use(\"dark_background\")\n",
        "plt.bar(np.arange(0,10),classification[0])"
      ],
      "execution_count": 73,
      "outputs": [
        {
          "output_type": "stream",
          "text": [
            "Epoch 1/5\n",
            "469/469 [==============================] - 1s 2ms/step - loss: 0.5486 - accuracy: 0.8099\n",
            "Epoch 2/5\n",
            "469/469 [==============================] - 1s 2ms/step - loss: 0.4031 - accuracy: 0.8581\n",
            "Epoch 3/5\n",
            "469/469 [==============================] - 1s 2ms/step - loss: 0.3651 - accuracy: 0.8710\n",
            "Epoch 4/5\n",
            "469/469 [==============================] - 1s 2ms/step - loss: 0.3377 - accuracy: 0.8790\n",
            "Epoch 5/5\n",
            "469/469 [==============================] - 1s 2ms/step - loss: 0.3239 - accuracy: 0.8832\n",
            "%%%%%%%%%%%%%%%%%%%%%%%%%%%%%%%%%%%%\n",
            "evaluation\n",
            "313/313 [==============================] - 0s 2ms/step - loss: 0.3990 - accuracy: 0.8541\n",
            "predicted_probabilites_label 0[1.19274446e-04 7.51141101e-07 2.66293118e-05 2.55807845e-06\n",
            " 6.41324732e-06 3.57132703e-02 5.08408957e-05 2.95139514e-02\n",
            " 2.15546112e-03 9.32410896e-01]\n",
            "y_predicted_label_09\n",
            "y_test_label 09\n"
          ],
          "name": "stdout"
        },
        {
          "output_type": "execute_result",
          "data": {
            "text/plain": [
              "<BarContainer object of 10 artists>"
            ]
          },
          "metadata": {
            "tags": []
          },
          "execution_count": 73
        },
        {
          "output_type": "display_data",
          "data": {
            "image/png": "[encoded data removed]",
            "text/plain": [
              "<Figure size 432x288 with 1 Axes>"
            ]
          },
          "metadata": {
            "tags": []
          }
        }
      ]
    },
    {
      "cell_type": "markdown",
      "metadata": {
        "id": "MQjgvj_9it2y",
        "colab_type": "text"
      },
      "source": [
        "Incresing Number of epochs"
      ]
    },
    {
      "cell_type": "code",
      "metadata": {
        "id": "lnEfopYZiycP",
        "colab_type": "code",
        "outputId": "86237274-cde5-4b35-82fb-f1c93f390c5f",
        "colab": {
          "base_uri": "https://localhost:8080/",
          "height": 1000
        }
      },
      "source": [
        "model=keras.Sequential()\n",
        "model.add(keras.layers.Flatten())\n",
        "model.add(keras.layers.Dense(128,activation=tf.nn.relu))\n",
        "model.add(keras.layers.Dense(10,activation=tf.nn.softmax))\n",
        "model.compile(optimizer=tf.optimizers.Adam(),loss='sparse_categorical_crossentropy',metrics=['accuracy'])\n",
        "h=model.fit(x_train,y_train,batch_size=128,epochs=30)\n",
        "print(\"%%%%%%%%%%%%%%%%%%%%%%%%%%%%%%%%%%%%\")\n",
        "print(\"evaluation\")\n",
        "model.evaluate(x_test,y_test)\n",
        "classification=model.predict(x_test)\n",
        "print(\"predicted_probabilites_label 10:\"+str(classification[10]))\n",
        "print(\"y_predicted_label_10:\"+str(np.argmax(classification[10])))\n",
        "print(\"y_test_label 10\"+str(y_test[10]))\n",
        "plt.style.use(\"dark_background\")\n",
        "plt.bar(np.arange(0,10),classification[10])"
      ],
      "execution_count": 74,
      "outputs": [
        {
          "output_type": "stream",
          "text": [
            "Epoch 1/30\n",
            "469/469 [==============================] - 1s 2ms/step - loss: 0.5608 - accuracy: 0.8063\n",
            "Epoch 2/30\n",
            "469/469 [==============================] - 1s 2ms/step - loss: 0.4071 - accuracy: 0.8571\n",
            "Epoch 3/30\n",
            "469/469 [==============================] - 1s 2ms/step - loss: 0.3663 - accuracy: 0.8700\n",
            "Epoch 4/30\n",
            "469/469 [==============================] - 1s 2ms/step - loss: 0.3367 - accuracy: 0.8792\n",
            "Epoch 5/30\n",
            "469/469 [==============================] - 1s 2ms/step - loss: 0.3182 - accuracy: 0.8846\n",
            "Epoch 6/30\n",
            "469/469 [==============================] - 1s 2ms/step - loss: 0.3034 - accuracy: 0.8899\n",
            "Epoch 7/30\n",
            "469/469 [==============================] - 1s 2ms/step - loss: 0.2905 - accuracy: 0.8959\n",
            "Epoch 8/30\n",
            "469/469 [==============================] - 1s 2ms/step - loss: 0.2797 - accuracy: 0.8986\n",
            "Epoch 9/30\n",
            "469/469 [==============================] - 1s 2ms/step - loss: 0.2706 - accuracy: 0.9021\n",
            "Epoch 10/30\n",
            "469/469 [==============================] - 1s 2ms/step - loss: 0.2617 - accuracy: 0.9041\n",
            "Epoch 11/30\n",
            "469/469 [==============================] - 1s 2ms/step - loss: 0.2531 - accuracy: 0.9062\n",
            "Epoch 12/30\n",
            "469/469 [==============================] - 1s 2ms/step - loss: 0.2448 - accuracy: 0.9103\n",
            "Epoch 13/30\n",
            "469/469 [==============================] - 1s 2ms/step - loss: 0.2404 - accuracy: 0.9115\n",
            "Epoch 14/30\n",
            "469/469 [==============================] - 1s 2ms/step - loss: 0.2316 - accuracy: 0.9147\n",
            "Epoch 15/30\n",
            "469/469 [==============================] - 1s 2ms/step - loss: 0.2247 - accuracy: 0.9179\n",
            "Epoch 16/30\n",
            "469/469 [==============================] - 1s 2ms/step - loss: 0.2190 - accuracy: 0.9197\n",
            "Epoch 17/30\n",
            "469/469 [==============================] - 1s 2ms/step - loss: 0.2160 - accuracy: 0.9208\n",
            "Epoch 18/30\n",
            "469/469 [==============================] - 1s 2ms/step - loss: 0.2080 - accuracy: 0.9234\n",
            "Epoch 19/30\n",
            "469/469 [==============================] - 1s 2ms/step - loss: 0.2045 - accuracy: 0.9253\n",
            "Epoch 20/30\n",
            "469/469 [==============================] - 1s 2ms/step - loss: 0.1996 - accuracy: 0.9270\n",
            "Epoch 21/30\n",
            "469/469 [==============================] - 1s 2ms/step - loss: 0.1949 - accuracy: 0.9282\n",
            "Epoch 22/30\n",
            "469/469 [==============================] - 1s 2ms/step - loss: 0.1888 - accuracy: 0.9313\n",
            "Epoch 23/30\n",
            "469/469 [==============================] - 1s 2ms/step - loss: 0.1855 - accuracy: 0.9319\n",
            "Epoch 24/30\n",
            "469/469 [==============================] - 1s 2ms/step - loss: 0.1825 - accuracy: 0.9328\n",
            "Epoch 25/30\n",
            "469/469 [==============================] - 1s 2ms/step - loss: 0.1735 - accuracy: 0.9374\n",
            "Epoch 26/30\n",
            "469/469 [==============================] - 1s 2ms/step - loss: 0.1721 - accuracy: 0.9371\n",
            "Epoch 27/30\n",
            "469/469 [==============================] - 1s 2ms/step - loss: 0.1704 - accuracy: 0.9378\n",
            "Epoch 28/30\n",
            "469/469 [==============================] - 1s 2ms/step - loss: 0.1654 - accuracy: 0.9394\n",
            "Epoch 29/30\n",
            "469/469 [==============================] - 1s 2ms/step - loss: 0.1612 - accuracy: 0.9406\n",
            "Epoch 30/30\n",
            "469/469 [==============================] - 1s 2ms/step - loss: 0.1601 - accuracy: 0.9415\n",
            "%%%%%%%%%%%%%%%%%%%%%%%%%%%%%%%%%%%%\n",
            "evaluation\n",
            "313/313 [==============================] - 1s 2ms/step - loss: 0.3429 - accuracy: 0.8919\n",
            "predicted_probabilites_label 10:[1.3773470e-07 7.7888485e-10 5.0224423e-02 3.6347085e-08 9.3350983e-01\n",
            " 1.0625891e-16 1.6265631e-02 1.5788648e-13 1.1791143e-09 4.9377586e-09]\n",
            "y_predicted_label_10:4\n",
            "y_test_label 104\n"
          ],
          "name": "stdout"
        },
        {
          "output_type": "execute_result",
          "data": {
            "text/plain": [
              "<BarContainer object of 10 artists>"
            ]
          },
          "metadata": {
            "tags": []
          },
          "execution_count": 74
        },
        {
          "output_type": "display_data",
          "data": {
            "image/png": "[encoded data removed]",
            "text/plain": [
              "<Figure size 432x288 with 1 Axes>"
            ]
          },
          "metadata": {
            "tags": []
          }
        }
      ]
    },
    {
      "cell_type": "code",
      "metadata": {
        "id": "eFiAZxZfjvJD",
        "colab_type": "code",
        "outputId": "392f7333-1c00-4c59-e236-ec9ba9b93e35",
        "colab": {
          "base_uri": "https://localhost:8080/",
          "height": 282
        }
      },
      "source": [
        "plt.plot(h.history['accuracy'])"
      ],
      "execution_count": 75,
      "outputs": [
        {
          "output_type": "execute_result",
          "data": {
            "text/plain": [
              "[<matplotlib.lines.Line2D at 0x7fdad4794278>]"
            ]
          },
          "metadata": {
            "tags": []
          },
          "execution_count": 75
        },
        {
          "output_type": "display_data",
          "data": {
            "image/png": "[encoded data removed]",
            "text/plain": [
              "<Figure size 432x288 with 1 Axes>"
            ]
          },
          "metadata": {
            "tags": []
          }
        }
      ]
    },
    {
      "cell_type": "markdown",
      "metadata": {
        "id": "e5_Qu3qQj500",
        "colab_type": "text"
      },
      "source": [
        "Adding callback"
      ]
    },
    {
      "cell_type": "code",
      "metadata": {
        "id": "BMlPKUbmj_H2",
        "colab_type": "code",
        "outputId": "76142de1-3d83-43ad-85c8-9144ce31b4b7",
        "colab": {
          "base_uri": "https://localhost:8080/",
          "height": 537
        }
      },
      "source": [
        "class mycallback(tf.keras.callbacks.Callback):\n",
        "  def on_epoch_end(self,epoch,logs={}):\n",
        "    if(logs.get('loss')<0.4):\n",
        "      print(\" \\n loss is less than 0.4so cancelling trainig\")\n",
        "      self.model.stop_training=True\n",
        "\n",
        "callbacks=mycallback()\n",
        "model=keras.Sequential()\n",
        "model.add(keras.layers.Flatten())\n",
        "model.add(keras.layers.Dense(128,activation=tf.nn.relu))\n",
        "model.add(keras.layers.Dense(10,activation=tf.nn.softmax))\n",
        "model.compile(optimizer=tf.optimizers.Adam(),loss='sparse_categorical_crossentropy',metrics=['accuracy'])\n",
        "model.fit(x_train,y_train,batch_size=128,epochs=5,callbacks=[callbacks])\n",
        "print(\"%%%%%%%%%%%%%%%%%%%%%%%%%%%%%%%%%%%%\")\n",
        "print(\"evaluation\")\n",
        "model.evaluate(x_test,y_test)\n",
        "classification=model.predict(x_test)\n",
        "print(\"predicted_probabilites_label 0\"+str(classification[0]))\n",
        "print(\"y_predicted_label_0\"+str(np.argmax(classification[0])))\n",
        "print(\"y_test_label 0\"+str(y_test[0]))\n",
        "plt.style.use(\"dark_background\")\n",
        "plt.bar(np.arange(0,10),classification[0])"
      ],
      "execution_count": 76,
      "outputs": [
        {
          "output_type": "stream",
          "text": [
            "Epoch 1/5\n",
            "469/469 [==============================] - 1s 2ms/step - loss: 0.5581 - accuracy: 0.8081\n",
            "Epoch 2/5\n",
            "469/469 [==============================] - 1s 2ms/step - loss: 0.4059 - accuracy: 0.8564\n",
            "Epoch 3/5\n",
            "454/469 [============================>.] - ETA: 0s - loss: 0.3698 - accuracy: 0.8684 \n",
            " loss is less than 0.4so cancelling trainig\n",
            "469/469 [==============================] - 1s 2ms/step - loss: 0.3685 - accuracy: 0.8690\n",
            "%%%%%%%%%%%%%%%%%%%%%%%%%%%%%%%%%%%%\n",
            "evaluation\n",
            "313/313 [==============================] - 1s 2ms/step - loss: 0.4012 - accuracy: 0.8561\n",
            "predicted_probabilites_label 0[2.5581822e-04 2.3454118e-06 8.1232167e-05 1.6601216e-05 4.5880202e-05\n",
            " 6.4219795e-02 1.4609190e-04 1.7692210e-01 6.8218028e-03 7.5148839e-01]\n",
            "y_predicted_label_09\n",
            "y_test_label 09\n"
          ],
          "name": "stdout"
        },
        {
          "output_type": "execute_result",
          "data": {
            "text/plain": [
              "<BarContainer object of 10 artists>"
            ]
          },
          "metadata": {
            "tags": []
          },
          "execution_count": 76
        },
        {
          "output_type": "display_data",
          "data": {
            "image/png": "[encoded data removed]",
            "text/plain": [
              "<Figure size 432x288 with 1 Axes>"
            ]
          },
          "metadata": {
            "tags": []
          }
        }
      ]
    },
    {
      "cell_type": "markdown",
      "metadata": {
        "id": "iv_UPY63nEua",
        "colab_type": "text"
      },
      "source": [
        "Adding callback"
      ]
    },
    {
      "cell_type": "code",
      "metadata": {
        "id": "pQmxrTWCnIWS",
        "colab_type": "code",
        "colab": {
          "base_uri": "https://localhost:8080/",
          "height": 469
        },
        "outputId": "2b3da6f5-32b1-4d05-de49-c21938368f8d"
      },
      "source": [
        "class mycallback(tf.keras.callbacks.Callback):\n",
        "  def on_epoch_end(self,epoch,logs={}):\n",
        "    if(logs.get('accuracy')>0.6):\n",
        "      print(\" \\n Reached 60% of accuracy so cancelling trainig\")\n",
        "      self.model.stop_training=True\n",
        "\n",
        "callbacks=mycallback()\n",
        "model=keras.Sequential()\n",
        "model.add(keras.layers.Flatten())\n",
        "model.add(keras.layers.Dense(128,activation=tf.nn.relu))\n",
        "model.add(keras.layers.Dense(10,activation=tf.nn.softmax))\n",
        "model.compile(optimizer=tf.optimizers.Adam(),loss='sparse_categorical_crossentropy',metrics=['accuracy'])\n",
        "model.fit(x_train,y_train,batch_size=128,epochs=5,callbacks=[callbacks])\n",
        "print(\"%%%%%%%%%%%%%%%%%%%%%%%%%%%%%%%%%%%%\")\n",
        "print(\"evaluation\")\n",
        "model.evaluate(x_test,y_test)\n",
        "classification=model.predict(x_test)\n",
        "print(\"predicted_probabilites_label 0\"+str(classification[0]))\n",
        "print(\"y_predicted_label_0\"+str(np.argmax(classification[0])))\n",
        "print(\"y_test_label 0\"+str(y_test[0]))\n",
        "plt.style.use(\"dark_background\")\n",
        "plt.bar(np.arange(0,10),classification[0])"
      ],
      "execution_count": 77,
      "outputs": [
        {
          "output_type": "stream",
          "text": [
            "Epoch 1/5\n",
            "463/469 [============================>.] - ETA: 0s - loss: 0.5606 - accuracy: 0.8090 \n",
            " Reached 60% of accuracy so cancelling trainig\n",
            "469/469 [==============================] - 1s 2ms/step - loss: 0.5590 - accuracy: 0.8093\n",
            "%%%%%%%%%%%%%%%%%%%%%%%%%%%%%%%%%%%%\n",
            "evaluation\n",
            "313/313 [==============================] - 0s 2ms/step - loss: 0.5388 - accuracy: 0.8216\n",
            "predicted_probabilites_label 0[4.1097170e-05 2.6693262e-05 2.9813976e-04 2.1986654e-05 5.7027522e-05\n",
            " 2.8585207e-01 1.0350111e-04 1.8866560e-01 4.9380353e-03 5.1999581e-01]\n",
            "y_predicted_label_09\n",
            "y_test_label 09\n"
          ],
          "name": "stdout"
        },
        {
          "output_type": "execute_result",
          "data": {
            "text/plain": [
              "<BarContainer object of 10 artists>"
            ]
          },
          "metadata": {
            "tags": []
          },
          "execution_count": 77
        },
        {
          "output_type": "display_data",
          "data": {
            "image/png": "[encoded data removed]",
            "text/plain": [
              "<Figure size 432x288 with 1 Axes>"
            ]
          },
          "metadata": {
            "tags": []
          }
        }
      ]
    },
    {
      "cell_type": "markdown",
      "metadata": {
        "id": "v45sBWXPh8w7",
        "colab_type": "text"
      },
      "source": [
        "Increasing number of neurons=256"
      ]
    },
    {
      "cell_type": "code",
      "metadata": {
        "id": "vad9Tlg6h4mB",
        "colab_type": "code",
        "outputId": "8fea0ad0-93a9-4023-a7c9-7a6b61830444",
        "colab": {
          "base_uri": "https://localhost:8080/",
          "height": 571
        }
      },
      "source": [
        "model=keras.Sequential()\n",
        "model.add(keras.layers.Flatten())\n",
        "model.add(keras.layers.Dense(128,activation=tf.nn.relu))\n",
        "model.add(keras.layers.Dense(10,activation=tf.nn.softmax))\n",
        "model.compile(optimizer=tf.optimizers.Adam(),loss='sparse_categorical_crossentropy',metrics=['accuracy'])\n",
        "model.fit(x_train,y_train,batch_size=256,epochs=5)\n",
        "print(\"%%%%%%%%%%%%%%%%%%%%%%%%%%%%%%%%%%%%\")\n",
        "print(\"evaluation\")\n",
        "model.evaluate(x_test,y_test)\n",
        "classification=model.predict(x_test)\n",
        "print(\"predicted_probabilites_label 0\"+str(classification[0]))\n",
        "print(\"y_predicted_label_0\"+str(np.argmax(classification[0])))\n",
        "print(\"y_test_label 0\"+str(y_test[0]))\n",
        "plt.style.use(\"dark_background\")\n",
        "plt.bar(np.arange(0,10),classification[0])"
      ],
      "execution_count": 0,
      "outputs": [
        {
          "output_type": "stream",
          "text": [
            "Epoch 1/5\n",
            "235/235 [==============================] - 1s 2ms/step - loss: 0.6261 - accuracy: 0.7881\n",
            "Epoch 2/5\n",
            "235/235 [==============================] - 1s 2ms/step - loss: 0.4293 - accuracy: 0.8513\n",
            "Epoch 3/5\n",
            "235/235 [==============================] - 1s 2ms/step - loss: 0.3863 - accuracy: 0.8642\n",
            "Epoch 4/5\n",
            "235/235 [==============================] - 1s 2ms/step - loss: 0.3597 - accuracy: 0.8712\n",
            "Epoch 5/5\n",
            "235/235 [==============================] - 1s 2ms/step - loss: 0.3460 - accuracy: 0.8762\n",
            "%%%%%%%%%%%%%%%%%%%%%%%%%%%%%%%%%%%%\n",
            "evaluation\n",
            "313/313 [==============================] - 0s 2ms/step - loss: 0.4066 - accuracy: 0.8558\n",
            "predicted_probabilites_label 0[9.6501417e-06 2.1656609e-07 1.4565873e-05 5.7238040e-06 3.3669473e-06\n",
            " 3.3447139e-02 1.9012488e-05 8.9583158e-02 7.9325569e-04 8.7612391e-01]\n",
            "y_predicted_label_09\n",
            "y_test_label 09\n"
          ],
          "name": "stdout"
        },
        {
          "output_type": "execute_result",
          "data": {
            "text/plain": [
              "<BarContainer object of 10 artists>"
            ]
          },
          "metadata": {
            "tags": []
          },
          "execution_count": 47
        },
        {
          "output_type": "display_data",
          "data": {
            "image/png": "[encoded data removed]",
            "text/plain": [
              "<Figure size 432x288 with 1 Axes>"
            ]
          },
          "metadata": {
            "tags": []
          }
        }
      ]
    },
    {
      "cell_type": "markdown",
      "metadata": {
        "id": "i27HYB7lh_Rb",
        "colab_type": "text"
      },
      "source": [
        "Increasing number of neurons=512"
      ]
    },
    {
      "cell_type": "code",
      "metadata": {
        "id": "nGOsZed9iFG8",
        "colab_type": "code",
        "outputId": "913b7ec8-25e1-4f65-fbe0-17962f83fe7f",
        "colab": {
          "base_uri": "https://localhost:8080/",
          "height": 571
        }
      },
      "source": [
        "model=keras.Sequential()\n",
        "model.add(keras.layers.Flatten())\n",
        "model.add(keras.layers.Dense(512,activation=tf.nn.relu))\n",
        "model.add(keras.layers.Dense(10,activation=tf.nn.softmax))\n",
        "model.compile(optimizer=tf.optimizers.Adam(),loss='sparse_categorical_crossentropy',metrics=['accuracy'])\n",
        "model.fit(x_train,y_train,batch_size=128,epochs=5)\n",
        "print(\"%%%%%%%%%%%%%%%%%%%%%%%%%%%%%%%%%%%%\")\n",
        "print(\"evaluation\")\n",
        "model.evaluate(x_test,y_test)\n",
        "classification=model.predict(x_test)\n",
        "print(\"predicted_probabilites_label 0\"+str(classification[0]))\n",
        "print(\"y_predicted_label_0\"+str(np.argmax(classification[0])))\n",
        "print(\"y_test_label 0\"+str(y_test[0]))\n",
        "plt.style.use(\"dark_background\")\n",
        "plt.bar(np.arange(0,10),classification[0])"
      ],
      "execution_count": 0,
      "outputs": [
        {
          "output_type": "stream",
          "text": [
            "Epoch 1/5\n",
            "469/469 [==============================] - 1s 2ms/step - loss: 0.5071 - accuracy: 0.8217\n",
            "Epoch 2/5\n",
            "469/469 [==============================] - 1s 2ms/step - loss: 0.3730 - accuracy: 0.8655\n",
            "Epoch 3/5\n",
            "469/469 [==============================] - 1s 2ms/step - loss: 0.3312 - accuracy: 0.8796\n",
            "Epoch 4/5\n",
            "469/469 [==============================] - 1s 2ms/step - loss: 0.3049 - accuracy: 0.8888\n",
            "Epoch 5/5\n",
            "469/469 [==============================] - 1s 2ms/step - loss: 0.2838 - accuracy: 0.8954\n",
            "%%%%%%%%%%%%%%%%%%%%%%%%%%%%%%%%%%%%\n",
            "evaluation\n",
            "313/313 [==============================] - 0s 2ms/step - loss: 0.3364 - accuracy: 0.8802\n",
            "predicted_probabilites_label 0[2.1794171e-05 1.0127263e-06 8.6551854e-06 7.2210305e-06 8.2471593e-07\n",
            " 1.2499332e-02 1.4636771e-05 1.0898021e-01 8.7384273e-05 8.7837887e-01]\n",
            "y_predicted_label_09\n",
            "y_test_label 09\n"
          ],
          "name": "stdout"
        },
        {
          "output_type": "execute_result",
          "data": {
            "text/plain": [
              "<BarContainer object of 10 artists>"
            ]
          },
          "metadata": {
            "tags": []
          },
          "execution_count": 48
        },
        {
          "output_type": "display_data",
          "data": {
            "image/png": "[encoded data removed]",
            "text/plain": [
              "<Figure size 432x288 with 1 Axes>"
            ]
          },
          "metadata": {
            "tags": []
          }
        }
      ]
    },
    {
      "cell_type": "markdown",
      "metadata": {
        "id": "b629WSqrgiFC",
        "colab_type": "text"
      },
      "source": [
        "Adding extra layers in between"
      ]
    },
    {
      "cell_type": "code",
      "metadata": {
        "id": "JRIZ1OTGemVA",
        "colab_type": "code",
        "outputId": "c9a837b9-26e0-4480-c8fb-f5c6068ed332",
        "colab": {
          "base_uri": "https://localhost:8080/",
          "height": 588
        }
      },
      "source": [
        "model=keras.Sequential()\n",
        "model.add(keras.layers.Flatten())\n",
        "model.add(keras.layers.Dense(512,activation=tf.nn.relu))\n",
        "model.add(keras.layers.Dense(256,activation=tf.nn.relu))\n",
        "model.add(keras.layers.Dense(10,activation=tf.nn.softmax))\n",
        "model.compile(optimizer=tf.optimizers.Adam(),loss='sparse_categorical_crossentropy',metrics=['accuracy'])\n",
        "model.fit(x_train,y_train,batch_size=128,epochs=5)\n",
        "print(\"%%%%%%%%%%%%%%%%%%%%%%%%%%%%%%%%%%%%\")\n",
        "print(\"evaluation\")\n",
        "model.evaluate(x_test,y_test)\n",
        "classification=model.predict(x_test)\n",
        "print(\"predicted_probabilites_label 0\"+str(classification[0]))\n",
        "print(\"y_predicted_label_0\"+str(np.argmax(classification[0])))\n",
        "print(\"y_test_label 0\"+str(y_test[0]))\n",
        "plt.style.use(\"dark_background\")\n",
        "plt.bar(np.arange(0,10),classification[0])"
      ],
      "execution_count": 0,
      "outputs": [
        {
          "output_type": "stream",
          "text": [
            "Epoch 1/5\n",
            "469/469 [==============================] - 1s 2ms/step - loss: 0.4878 - accuracy: 0.8263\n",
            "Epoch 2/5\n",
            "469/469 [==============================] - 1s 2ms/step - loss: 0.3570 - accuracy: 0.8695\n",
            "Epoch 3/5\n",
            "469/469 [==============================] - 1s 2ms/step - loss: 0.3151 - accuracy: 0.8841\n",
            "Epoch 4/5\n",
            "469/469 [==============================] - 1s 2ms/step - loss: 0.2986 - accuracy: 0.8893\n",
            "Epoch 5/5\n",
            "469/469 [==============================] - 1s 2ms/step - loss: 0.2766 - accuracy: 0.8965\n",
            "%%%%%%%%%%%%%%%%%%%%%%%%%%%%%%%%%%%%\n",
            "evaluation\n",
            "313/313 [==============================] - 0s 2ms/step - loss: 0.3701 - accuracy: 0.8701\n",
            "predicted_probabilites_label 0[1.65682167e-07 6.25127328e-08 6.48320793e-08 2.29096759e-08\n",
            " 2.93917033e-08 3.27259972e-04 1.07497684e-07 2.99943853e-02\n",
            " 6.38588631e-08 9.69677806e-01]\n",
            "y_predicted_label_09\n",
            "y_test_label 09\n"
          ],
          "name": "stdout"
        },
        {
          "output_type": "execute_result",
          "data": {
            "text/plain": [
              "<BarContainer object of 10 artists>"
            ]
          },
          "metadata": {
            "tags": []
          },
          "execution_count": 45
        },
        {
          "output_type": "display_data",
          "data": {
            "image/png": "[encoded data removed]",
            "text/plain": [
              "<Figure size 432x288 with 1 Axes>"
            ]
          },
          "metadata": {
            "tags": []
          }
        }
      ]
    },
    {
      "cell_type": "code",
      "metadata": {
        "id": "GrFpbReThSDP",
        "colab_type": "code",
        "colab": {}
      },
      "source": [
        ""
      ],
      "execution_count": 0,
      "outputs": []
    }
  ]
}