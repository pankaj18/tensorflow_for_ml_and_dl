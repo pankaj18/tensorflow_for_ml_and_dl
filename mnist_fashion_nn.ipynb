{
  "nbformat": 4,
  "nbformat_minor": 0,
  "metadata": {
    "colab": {
      "name": "mnist_fashion_nn.ipynb",
      "provenance": [],
      "authorship_tag": "ABX9TyNZVKg39wtfFaGZmKO4KGuq",
      "include_colab_link": true
    },
    "kernelspec": {
      "name": "python3",
      "display_name": "Python 3"
    },
    "accelerator": "GPU"
  },
  "cells": [
    {
      "cell_type": "markdown",
      "metadata": {
        "id": "view-in-github",
        "colab_type": "text"
      },
      "source": [
        "<a href=\"https://colab.research.google.com/github/pankaj18/tensorflow_for_ml_and_dl/blob/master/mnist_fashion_nn.ipynb\" target=\"_parent\"><img src=\"https://colab.research.google.com/assets/colab-badge.svg\" alt=\"Open In Colab\"/></a>"
      ]
    },
    {
      "cell_type": "markdown",
      "metadata": {
        "id": "T5e75svhIR6k",
        "colab_type": "text"
      },
      "source": [
        ""
      ]
    },
    {
      "cell_type": "markdown",
      "metadata": {
        "id": "A-ubTK4HBSE5",
        "colab_type": "text"
      },
      "source": [
        "Classify mnist fashion images using neural network"
      ]
    },
    {
      "cell_type": "code",
      "metadata": {
        "id": "UIFmm9SyIX5O",
        "colab_type": "code",
        "colab": {}
      },
      "source": [
        "import numpy as np\n",
        "import tensorflow as tf\n",
        "from tensorflow import keras\n",
        "import matplotlib.pyplot as plt\n",
        "%matplotlib inline"
      ],
      "execution_count": 0,
      "outputs": []
    },
    {
      "cell_type": "code",
      "metadata": {
        "id": "gCFbCmoEInNw",
        "colab_type": "code",
        "colab": {}
      },
      "source": [
        "mnist=keras.datasets.fashion_mnist"
      ],
      "execution_count": 0,
      "outputs": []
    },
    {
      "cell_type": "code",
      "metadata": {
        "id": "NllOA8J9BZT5",
        "colab_type": "code",
        "colab": {
          "base_uri": "https://localhost:8080/",
          "height": 54
        },
        "outputId": "51f08542-f6d1-4f38-de16-e3c62b704fbf"
      },
      "source": [
        "mnist"
      ],
      "execution_count": 16,
      "outputs": [
        {
          "output_type": "execute_result",
          "data": {
            "text/plain": [
              "<module 'tensorflow.keras.datasets.fashion_mnist' from '/usr/local/lib/python3.6/dist-packages/tensorflow/keras/datasets/fashion_mnist/__init__.py'>"
            ]
          },
          "metadata": {
            "tags": []
          },
          "execution_count": 16
        }
      ]
    },
    {
      "cell_type": "code",
      "metadata": {
        "id": "u592lU1yBtFN",
        "colab_type": "code",
        "colab": {}
      },
      "source": [
        "(x_train,y_train),(x_test,y_test)=mnist.load_data()"
      ],
      "execution_count": 0,
      "outputs": []
    },
    {
      "cell_type": "code",
      "metadata": {
        "id": "rlZPt5fMCAeE",
        "colab_type": "code",
        "colab": {
          "base_uri": "https://localhost:8080/",
          "height": 34
        },
        "outputId": "353a9fb2-b63b-4f91-dd15-19541f8f35f9"
      },
      "source": [
        "print(\"train_size\"+str(x_train.shape))"
      ],
      "execution_count": 18,
      "outputs": [
        {
          "output_type": "stream",
          "text": [
            "train_size(60000, 28, 28)\n"
          ],
          "name": "stdout"
        }
      ]
    },
    {
      "cell_type": "code",
      "metadata": {
        "id": "1IdZEguwCKJq",
        "colab_type": "code",
        "colab": {
          "base_uri": "https://localhost:8080/",
          "height": 34
        },
        "outputId": "fe43455b-24eb-47c8-a26c-22b77e97c7af"
      },
      "source": [
        "print(\"test_size\"+str(x_test.shape))"
      ],
      "execution_count": 19,
      "outputs": [
        {
          "output_type": "stream",
          "text": [
            "test_size(10000, 28, 28)\n"
          ],
          "name": "stdout"
        }
      ]
    },
    {
      "cell_type": "code",
      "metadata": {
        "id": "jjYTgq6tCSR6",
        "colab_type": "code",
        "colab": {
          "base_uri": "https://localhost:8080/",
          "height": 34
        },
        "outputId": "74d02ecb-cda5-43da-b29e-1d6efdd05397"
      },
      "source": [
        "print(\"train_label_size\"+str(y_train.shape)+\" ,\"+\"test_label_size\"+str(y_test.shape))"
      ],
      "execution_count": 20,
      "outputs": [
        {
          "output_type": "stream",
          "text": [
            "train_label_size(60000,) ,test_label_size(10000,)\n"
          ],
          "name": "stdout"
        }
      ]
    },
    {
      "cell_type": "code",
      "metadata": {
        "id": "eaAAeurFCg7b",
        "colab_type": "code",
        "colab": {
          "base_uri": "https://localhost:8080/",
          "height": 1000
        },
        "outputId": "292481c2-a6e6-4060-9917-c9540c99ee07"
      },
      "source": [
        "print('label:'+str(y_train[0]))\n",
        "print(x_train[0])\n",
        "plt.imshow(x_train[0])"
      ],
      "execution_count": 21,
      "outputs": [
        {
          "output_type": "stream",
          "text": [
            "label:9\n",
            "[[  0   0   0   0   0   0   0   0   0   0   0   0   0   0   0   0   0   0\n",
            "    0   0   0   0   0   0   0   0   0   0]\n",
            " [  0   0   0   0   0   0   0   0   0   0   0   0   0   0   0   0   0   0\n",
            "    0   0   0   0   0   0   0   0   0   0]\n",
            " [  0   0   0   0   0   0   0   0   0   0   0   0   0   0   0   0   0   0\n",
            "    0   0   0   0   0   0   0   0   0   0]\n",
            " [  0   0   0   0   0   0   0   0   0   0   0   0   1   0   0  13  73   0\n",
            "    0   1   4   0   0   0   0   1   1   0]\n",
            " [  0   0   0   0   0   0   0   0   0   0   0   0   3   0  36 136 127  62\n",
            "   54   0   0   0   1   3   4   0   0   3]\n",
            " [  0   0   0   0   0   0   0   0   0   0   0   0   6   0 102 204 176 134\n",
            "  144 123  23   0   0   0   0  12  10   0]\n",
            " [  0   0   0   0   0   0   0   0   0   0   0   0   0   0 155 236 207 178\n",
            "  107 156 161 109  64  23  77 130  72  15]\n",
            " [  0   0   0   0   0   0   0   0   0   0   0   1   0  69 207 223 218 216\n",
            "  216 163 127 121 122 146 141  88 172  66]\n",
            " [  0   0   0   0   0   0   0   0   0   1   1   1   0 200 232 232 233 229\n",
            "  223 223 215 213 164 127 123 196 229   0]\n",
            " [  0   0   0   0   0   0   0   0   0   0   0   0   0 183 225 216 223 228\n",
            "  235 227 224 222 224 221 223 245 173   0]\n",
            " [  0   0   0   0   0   0   0   0   0   0   0   0   0 193 228 218 213 198\n",
            "  180 212 210 211 213 223 220 243 202   0]\n",
            " [  0   0   0   0   0   0   0   0   0   1   3   0  12 219 220 212 218 192\n",
            "  169 227 208 218 224 212 226 197 209  52]\n",
            " [  0   0   0   0   0   0   0   0   0   0   6   0  99 244 222 220 218 203\n",
            "  198 221 215 213 222 220 245 119 167  56]\n",
            " [  0   0   0   0   0   0   0   0   0   4   0   0  55 236 228 230 228 240\n",
            "  232 213 218 223 234 217 217 209  92   0]\n",
            " [  0   0   1   4   6   7   2   0   0   0   0   0 237 226 217 223 222 219\n",
            "  222 221 216 223 229 215 218 255  77   0]\n",
            " [  0   3   0   0   0   0   0   0   0  62 145 204 228 207 213 221 218 208\n",
            "  211 218 224 223 219 215 224 244 159   0]\n",
            " [  0   0   0   0  18  44  82 107 189 228 220 222 217 226 200 205 211 230\n",
            "  224 234 176 188 250 248 233 238 215   0]\n",
            " [  0  57 187 208 224 221 224 208 204 214 208 209 200 159 245 193 206 223\n",
            "  255 255 221 234 221 211 220 232 246   0]\n",
            " [  3 202 228 224 221 211 211 214 205 205 205 220 240  80 150 255 229 221\n",
            "  188 154 191 210 204 209 222 228 225   0]\n",
            " [ 98 233 198 210 222 229 229 234 249 220 194 215 217 241  65  73 106 117\n",
            "  168 219 221 215 217 223 223 224 229  29]\n",
            " [ 75 204 212 204 193 205 211 225 216 185 197 206 198 213 240 195 227 245\n",
            "  239 223 218 212 209 222 220 221 230  67]\n",
            " [ 48 203 183 194 213 197 185 190 194 192 202 214 219 221 220 236 225 216\n",
            "  199 206 186 181 177 172 181 205 206 115]\n",
            " [  0 122 219 193 179 171 183 196 204 210 213 207 211 210 200 196 194 191\n",
            "  195 191 198 192 176 156 167 177 210  92]\n",
            " [  0   0  74 189 212 191 175 172 175 181 185 188 189 188 193 198 204 209\n",
            "  210 210 211 188 188 194 192 216 170   0]\n",
            " [  2   0   0   0  66 200 222 237 239 242 246 243 244 221 220 193 191 179\n",
            "  182 182 181 176 166 168  99  58   0   0]\n",
            " [  0   0   0   0   0   0   0  40  61  44  72  41  35   0   0   0   0   0\n",
            "    0   0   0   0   0   0   0   0   0   0]\n",
            " [  0   0   0   0   0   0   0   0   0   0   0   0   0   0   0   0   0   0\n",
            "    0   0   0   0   0   0   0   0   0   0]\n",
            " [  0   0   0   0   0   0   0   0   0   0   0   0   0   0   0   0   0   0\n",
            "    0   0   0   0   0   0   0   0   0   0]]\n"
          ],
          "name": "stdout"
        },
        {
          "output_type": "execute_result",
          "data": {
            "text/plain": [
              "<matplotlib.image.AxesImage at 0x7fdb1b2425f8>"
            ]
          },
          "metadata": {
            "tags": []
          },
          "execution_count": 21
        },
        {
          "output_type": "display_data",
          "data": {
            "image/png": "[encoded data removed]",
            "text/plain": [
              "<Figure size 432x288 with 1 Axes>"
            ]
          },
          "metadata": {
            "tags": [],
            "needs_background": "light"
          }
        }
      ]
    },
    {
      "cell_type": "code",
      "metadata": {
        "id": "iCHFvrcRD8nl",
        "colab_type": "code",
        "colab": {}
      },
      "source": [
        "#normalize training and testing data\n",
        "x_train=x_train/255\n",
        "x_test=x_test/255"
      ],
      "execution_count": 0,
      "outputs": []
    },
    {
      "cell_type": "markdown",
      "metadata": {
        "id": "NPrqIs9yEqIu",
        "colab_type": "text"
      },
      "source": [
        "Create basic inital model"
      ]
    },
    {
      "cell_type": "code",
      "metadata": {
        "id": "7bCK4TRtEli9",
        "colab_type": "code",
        "colab": {}
      },
      "source": [
        "model=keras.Sequential()\n",
        "model.add(keras.layers.Flatten())\n",
        "model.add(keras.layers.Dense(64,activation=tf.nn.relu))\n",
        "model.add(keras.layers.Dense(10,activation=tf.nn.softmax))"
      ],
      "execution_count": 0,
      "outputs": []
    },
    {
      "cell_type": "code",
      "metadata": {
        "id": "As-2fqMuFHRJ",
        "colab_type": "code",
        "colab": {}
      },
      "source": [
        "model.compile(optimizer=tf.optimizers.Adam(),loss='sparse_categorical_crossentropy',metrics=['accuracy'])"
      ],
      "execution_count": 0,
      "outputs": []
    },
    {
      "cell_type": "code",
      "metadata": {
        "id": "wqaGeuy0FJK8",
        "colab_type": "code",
        "colab": {
          "base_uri": "https://localhost:8080/",
          "height": 204
        },
        "outputId": "2dd31567-7929-4ca8-a1bf-2309c99c1099"
      },
      "source": [
        "model.fit(x_train,y_train,batch_size=128,epochs=5)"
      ],
      "execution_count": 27,
      "outputs": [
        {
          "output_type": "stream",
          "text": [
            "Epoch 1/5\n",
            "469/469 [==============================] - 1s 2ms/step - loss: 0.5896 - accuracy: 0.7997\n",
            "Epoch 2/5\n",
            "469/469 [==============================] - 1s 2ms/step - loss: 0.4323 - accuracy: 0.8494\n",
            "Epoch 3/5\n",
            "469/469 [==============================] - 1s 2ms/step - loss: 0.3932 - accuracy: 0.8624\n",
            "Epoch 4/5\n",
            "469/469 [==============================] - 1s 2ms/step - loss: 0.3693 - accuracy: 0.8697\n",
            "Epoch 5/5\n",
            "469/469 [==============================] - 1s 2ms/step - loss: 0.3506 - accuracy: 0.8748\n"
          ],
          "name": "stdout"
        },
        {
          "output_type": "execute_result",
          "data": {
            "text/plain": [
              "<tensorflow.python.keras.callbacks.History at 0x7fdb103b6438>"
            ]
          },
          "metadata": {
            "tags": []
          },
          "execution_count": 27
        }
      ]
    },
    {
      "cell_type": "code",
      "metadata": {
        "id": "14ZVrZLhIj6Y",
        "colab_type": "code",
        "colab": {
          "base_uri": "https://localhost:8080/",
          "height": 255
        },
        "outputId": "dedafa21-e095-4bb2-946f-60dcccae9814"
      },
      "source": [
        "model.summary()"
      ],
      "execution_count": 28,
      "outputs": [
        {
          "output_type": "stream",
          "text": [
            "Model: \"sequential_1\"\n",
            "_________________________________________________________________\n",
            "Layer (type)                 Output Shape              Param #   \n",
            "=================================================================\n",
            "flatten_1 (Flatten)          multiple                  0         \n",
            "_________________________________________________________________\n",
            "dense_2 (Dense)              multiple                  50240     \n",
            "_________________________________________________________________\n",
            "dense_3 (Dense)              multiple                  650       \n",
            "=================================================================\n",
            "Total params: 50,890\n",
            "Trainable params: 50,890\n",
            "Non-trainable params: 0\n",
            "_________________________________________________________________\n"
          ],
          "name": "stdout"
        }
      ]
    },
    {
      "cell_type": "code",
      "metadata": {
        "id": "eTdfT0yjGF3L",
        "colab_type": "code",
        "colab": {
          "base_uri": "https://localhost:8080/",
          "height": 51
        },
        "outputId": "d7ebd7dd-1c4c-4932-9906-6e297961dda1"
      },
      "source": [
        "model.evaluate(x_test,y_test)"
      ],
      "execution_count": 29,
      "outputs": [
        {
          "output_type": "stream",
          "text": [
            "313/313 [==============================] - 1s 2ms/step - loss: 0.3802 - accuracy: 0.8648\n"
          ],
          "name": "stdout"
        },
        {
          "output_type": "execute_result",
          "data": {
            "text/plain": [
              "[0.3802056312561035, 0.864799976348877]"
            ]
          },
          "metadata": {
            "tags": []
          },
          "execution_count": 29
        }
      ]
    },
    {
      "cell_type": "code",
      "metadata": {
        "id": "YECbCsddJL8Q",
        "colab_type": "code",
        "colab": {}
      },
      "source": [
        "classification=model.predict(x_test)"
      ],
      "execution_count": 0,
      "outputs": []
    },
    {
      "cell_type": "code",
      "metadata": {
        "id": "chznvXUbcFbI",
        "colab_type": "code",
        "colab": {
          "base_uri": "https://localhost:8080/",
          "height": 102
        },
        "outputId": "5cd95fe2-1898-40cd-a909-e22d92dfb3a0"
      },
      "source": [
        "print(\"predicted_probabilites_label 0\"+str(classification[0]))\n",
        "print(\"y_predicted_label_0\"+str(np.argmax(classification[0])))\n",
        "print(\"y_test_label 0\"+str(y_test[0]))"
      ],
      "execution_count": 34,
      "outputs": [
        {
          "output_type": "stream",
          "text": [
            "predicted_probabilites_label 0[1.44926535e-05 2.33910555e-07 2.79084338e-06 7.75682474e-06\n",
            " 2.59067565e-05 4.70667146e-02 2.03085929e-05 7.61293843e-02\n",
            " 1.59755698e-03 8.75134885e-01]\n",
            "y_predicted_label_09\n",
            "y_test_label 09\n"
          ],
          "name": "stdout"
        }
      ]
    },
    {
      "cell_type": "code",
      "metadata": {
        "id": "ZSDh5GLZcvmt",
        "colab_type": "code",
        "colab": {
          "base_uri": "https://localhost:8080/",
          "height": 282
        },
        "outputId": "80e1f1a0-d20f-4228-d93e-b5bf851f00d2"
      },
      "source": [
        "plt.style.use(\"dark_background\")\n",
        "plt.bar(np.arange(0,10),classification[0])\n"
      ],
      "execution_count": 42,
      "outputs": [
        {
          "output_type": "execute_result",
          "data": {
            "text/plain": [
              "<BarContainer object of 10 artists>"
            ]
          },
          "metadata": {
            "tags": []
          },
          "execution_count": 42
        },
        {
          "output_type": "display_data",
          "data": {
            "image/png": "[encoded data removed]",
            "text/plain": [
              "<Figure size 432x288 with 1 Axes>"
            ]
          },
          "metadata": {
            "tags": []
          }
        }
      ]
    },
    {
      "cell_type": "code",
      "metadata": {
        "id": "8MVCymc2dpYf",
        "colab_type": "code",
        "colab": {
          "base_uri": "https://localhost:8080/",
          "height": 71
        },
        "outputId": "d333bee3-d0a2-4e12-a20e-5b405bd09065"
      },
      "source": [
        "import seaborn as sns"
      ],
      "execution_count": 40,
      "outputs": [
        {
          "output_type": "stream",
          "text": [
            "/usr/local/lib/python3.6/dist-packages/statsmodels/tools/_testing.py:19: FutureWarning: pandas.util.testing is deprecated. Use the functions in the public API at pandas.testing instead.\n",
            "  import pandas.util.testing as tm\n"
          ],
          "name": "stderr"
        }
      ]
    },
    {
      "cell_type": "code",
      "metadata": {
        "id": "919FtwM4edk5",
        "colab_type": "code",
        "colab": {
          "base_uri": "https://localhost:8080/",
          "height": 282
        },
        "outputId": "859fe4ba-9157-4412-edf3-5b8bbde274a9"
      },
      "source": [
        "plt.style.use(\"dark_background\")\n",
        "sns.barplot(np.arange(0,10),classification[0])"
      ],
      "execution_count": 43,
      "outputs": [
        {
          "output_type": "execute_result",
          "data": {
            "text/plain": [
              "<matplotlib.axes._subplots.AxesSubplot at 0x7fdaddae5898>"
            ]
          },
          "metadata": {
            "tags": []
          },
          "execution_count": 43
        },
        {
          "output_type": "display_data",
          "data": {
            "image/png": "[encoded data removed]",
            "text/plain": [
              "<Figure size 432x288 with 1 Axes>"
            ]
          },
          "metadata": {
            "tags": []
          }
        }
      ]
    },
    {
      "cell_type": "markdown",
      "metadata": {
        "id": "6jI_19SfhqYw",
        "colab_type": "text"
      },
      "source": [
        "Increasing number of neurons=128"
      ]
    },
    {
      "cell_type": "code",
      "metadata": {
        "id": "3vhuouqJhw9p",
        "colab_type": "code",
        "colab": {
          "base_uri": "https://localhost:8080/",
          "height": 571
        },
        "outputId": "ef629c0f-a7d4-465d-c166-f66f7446fe12"
      },
      "source": [
        "model=keras.Sequential()\n",
        "model.add(keras.layers.Flatten())\n",
        "model.add(keras.layers.Dense(128,activation=tf.nn.relu))\n",
        "model.add(keras.layers.Dense(10,activation=tf.nn.softmax))\n",
        "model.compile(optimizer=tf.optimizers.Adam(),loss='sparse_categorical_crossentropy',metrics=['accuracy'])\n",
        "model.fit(x_train,y_train,batch_size=128,epochs=5)\n",
        "print(\"%%%%%%%%%%%%%%%%%%%%%%%%%%%%%%%%%%%%\")\n",
        "print(\"evaluation\")\n",
        "model.evaluate(x_test,y_test)\n",
        "classification=model.predict(x_test)\n",
        "print(\"predicted_probabilites_label 0\"+str(classification[0]))\n",
        "print(\"y_predicted_label_0\"+str(np.argmax(classification[0])))\n",
        "print(\"y_test_label 0\"+str(y_test[0]))\n",
        "plt.style.use(\"dark_background\")\n",
        "plt.bar(np.arange(0,10),classification[0])"
      ],
      "execution_count": 46,
      "outputs": [
        {
          "output_type": "stream",
          "text": [
            "Epoch 1/5\n",
            "469/469 [==============================] - 1s 2ms/step - loss: 0.5571 - accuracy: 0.8082\n",
            "Epoch 2/5\n",
            "469/469 [==============================] - 1s 2ms/step - loss: 0.4083 - accuracy: 0.8570\n",
            "Epoch 3/5\n",
            "469/469 [==============================] - 1s 2ms/step - loss: 0.3690 - accuracy: 0.8687\n",
            "Epoch 4/5\n",
            "469/469 [==============================] - 1s 2ms/step - loss: 0.3424 - accuracy: 0.8772\n",
            "Epoch 5/5\n",
            "469/469 [==============================] - 1s 2ms/step - loss: 0.3225 - accuracy: 0.8837\n",
            "%%%%%%%%%%%%%%%%%%%%%%%%%%%%%%%%%%%%\n",
            "evaluation\n",
            "313/313 [==============================] - 0s 2ms/step - loss: 0.3653 - accuracy: 0.8701\n",
            "predicted_probabilites_label 0[7.7951499e-06 3.5905973e-07 7.5517528e-06 1.9085685e-06 2.9891813e-05\n",
            " 2.9398225e-02 3.1810265e-05 3.2785300e-02 5.4163695e-04 9.3719560e-01]\n",
            "y_predicted_label_09\n",
            "y_test_label 09\n"
          ],
          "name": "stdout"
        },
        {
          "output_type": "execute_result",
          "data": {
            "text/plain": [
              "<BarContainer object of 10 artists>"
            ]
          },
          "metadata": {
            "tags": []
          },
          "execution_count": 46
        },
        {
          "output_type": "display_data",
          "data": {
            "image/png": "[encoded data removed]",
            "text/plain": [
              "<Figure size 432x288 with 1 Axes>"
            ]
          },
          "metadata": {
            "tags": []
          }
        }
      ]
    },
    {
      "cell_type": "markdown",
      "metadata": {
        "id": "MQjgvj_9it2y",
        "colab_type": "text"
      },
      "source": [
        "Incresing Number of epochs"
      ]
    },
    {
      "cell_type": "code",
      "metadata": {
        "id": "lnEfopYZiycP",
        "colab_type": "code",
        "colab": {
          "base_uri": "https://localhost:8080/",
          "height": 1000
        },
        "outputId": "341c9c4a-9000-4df1-9b50-96c86324dcb9"
      },
      "source": [
        "model=keras.Sequential()\n",
        "model.add(keras.layers.Flatten())\n",
        "model.add(keras.layers.Dense(128,activation=tf.nn.relu))\n",
        "model.add(keras.layers.Dense(10,activation=tf.nn.softmax))\n",
        "model.compile(optimizer=tf.optimizers.Adam(),loss='sparse_categorical_crossentropy',metrics=['accuracy'])\n",
        "h=model.fit(x_train,y_train,batch_size=128,epochs=30)\n",
        "print(\"%%%%%%%%%%%%%%%%%%%%%%%%%%%%%%%%%%%%\")\n",
        "print(\"evaluation\")\n",
        "model.evaluate(x_test,y_test)\n",
        "classification=model.predict(x_test)\n",
        "print(\"predicted_probabilites_label 10:\"+str(classification[10]))\n",
        "print(\"y_predicted_label_10:\"+str(np.argmax(classification[10])))\n",
        "print(\"y_test_label 10\"+str(y_test[10]))\n",
        "plt.style.use(\"dark_background\")\n",
        "plt.bar(np.arange(0,10),classification[10])"
      ],
      "execution_count": 51,
      "outputs": [
        {
          "output_type": "stream",
          "text": [
            "Epoch 1/30\n",
            "469/469 [==============================] - 1s 2ms/step - loss: 0.5540 - accuracy: 0.8112\n",
            "Epoch 2/30\n",
            "469/469 [==============================] - 1s 2ms/step - loss: 0.4083 - accuracy: 0.8555\n",
            "Epoch 3/30\n",
            "469/469 [==============================] - 1s 2ms/step - loss: 0.3650 - accuracy: 0.8704\n",
            "Epoch 4/30\n",
            "469/469 [==============================] - 1s 2ms/step - loss: 0.3383 - accuracy: 0.8788\n",
            "Epoch 5/30\n",
            "469/469 [==============================] - 1s 2ms/step - loss: 0.3188 - accuracy: 0.8846\n",
            "Epoch 6/30\n",
            "469/469 [==============================] - 1s 2ms/step - loss: 0.3034 - accuracy: 0.8898\n",
            "Epoch 7/30\n",
            "469/469 [==============================] - 1s 2ms/step - loss: 0.2909 - accuracy: 0.8943\n",
            "Epoch 8/30\n",
            "469/469 [==============================] - 1s 2ms/step - loss: 0.2812 - accuracy: 0.8976\n",
            "Epoch 9/30\n",
            "469/469 [==============================] - 1s 2ms/step - loss: 0.2713 - accuracy: 0.9007\n",
            "Epoch 10/30\n",
            "469/469 [==============================] - 1s 2ms/step - loss: 0.2618 - accuracy: 0.9038\n",
            "Epoch 11/30\n",
            "469/469 [==============================] - 1s 2ms/step - loss: 0.2542 - accuracy: 0.9062\n",
            "Epoch 12/30\n",
            "469/469 [==============================] - 1s 2ms/step - loss: 0.2478 - accuracy: 0.9090\n",
            "Epoch 13/30\n",
            "469/469 [==============================] - 1s 2ms/step - loss: 0.2408 - accuracy: 0.9111\n",
            "Epoch 14/30\n",
            "469/469 [==============================] - 1s 2ms/step - loss: 0.2342 - accuracy: 0.9142\n",
            "Epoch 15/30\n",
            "469/469 [==============================] - 1s 2ms/step - loss: 0.2285 - accuracy: 0.9172\n",
            "Epoch 16/30\n",
            "469/469 [==============================] - 1s 2ms/step - loss: 0.2248 - accuracy: 0.9170\n",
            "Epoch 17/30\n",
            "469/469 [==============================] - 1s 2ms/step - loss: 0.2176 - accuracy: 0.9197\n",
            "Epoch 18/30\n",
            "469/469 [==============================] - 1s 2ms/step - loss: 0.2118 - accuracy: 0.9217\n",
            "Epoch 19/30\n",
            "469/469 [==============================] - 1s 2ms/step - loss: 0.2060 - accuracy: 0.9249\n",
            "Epoch 20/30\n",
            "469/469 [==============================] - 1s 2ms/step - loss: 0.2031 - accuracy: 0.9247\n",
            "Epoch 21/30\n",
            "469/469 [==============================] - 1s 2ms/step - loss: 0.1968 - accuracy: 0.9286\n",
            "Epoch 22/30\n",
            "469/469 [==============================] - 1s 2ms/step - loss: 0.1968 - accuracy: 0.9262\n",
            "Epoch 23/30\n",
            "469/469 [==============================] - 1s 2ms/step - loss: 0.1886 - accuracy: 0.9309\n",
            "Epoch 24/30\n",
            "469/469 [==============================] - 1s 2ms/step - loss: 0.1855 - accuracy: 0.9315\n",
            "Epoch 25/30\n",
            "469/469 [==============================] - 1s 2ms/step - loss: 0.1803 - accuracy: 0.9338\n",
            "Epoch 26/30\n",
            "469/469 [==============================] - 1s 2ms/step - loss: 0.1760 - accuracy: 0.9347\n",
            "Epoch 27/30\n",
            "469/469 [==============================] - 1s 2ms/step - loss: 0.1725 - accuracy: 0.9365\n",
            "Epoch 28/30\n",
            "469/469 [==============================] - 1s 2ms/step - loss: 0.1677 - accuracy: 0.9379\n",
            "Epoch 29/30\n",
            "469/469 [==============================] - 1s 2ms/step - loss: 0.1639 - accuracy: 0.9402\n",
            "Epoch 30/30\n",
            "469/469 [==============================] - 1s 2ms/step - loss: 0.1633 - accuracy: 0.9399\n",
            "%%%%%%%%%%%%%%%%%%%%%%%%%%%%%%%%%%%%\n",
            "evaluation\n",
            "313/313 [==============================] - 0s 2ms/step - loss: 0.3436 - accuracy: 0.8877\n",
            "predicted_probabilites_label 10:[1.6602344e-05 4.7868126e-10 5.0178345e-02 1.0971852e-08 9.2744690e-01\n",
            " 1.4245334e-09 2.2358110e-02 1.0128952e-12 3.1198464e-09 9.1400842e-10]\n",
            "y_predicted_label_10:4\n",
            "y_test_label 104\n"
          ],
          "name": "stdout"
        },
        {
          "output_type": "execute_result",
          "data": {
            "text/plain": [
              "<BarContainer object of 10 artists>"
            ]
          },
          "metadata": {
            "tags": []
          },
          "execution_count": 51
        },
        {
          "output_type": "display_data",
          "data": {
            "image/png": "[encoded data removed]",
            "text/plain": [
              "<Figure size 432x288 with 1 Axes>"
            ]
          },
          "metadata": {
            "tags": []
          }
        }
      ]
    },
    {
      "cell_type": "code",
      "metadata": {
        "id": "eFiAZxZfjvJD",
        "colab_type": "code",
        "colab": {
          "base_uri": "https://localhost:8080/",
          "height": 282
        },
        "outputId": "3c94998d-daec-4d0b-a3ed-0f3828fbb9e8"
      },
      "source": [
        "plt.plot(h.history['accuracy'])"
      ],
      "execution_count": 52,
      "outputs": [
        {
          "output_type": "execute_result",
          "data": {
            "text/plain": [
              "[<matplotlib.lines.Line2D at 0x7fdadc16be48>]"
            ]
          },
          "metadata": {
            "tags": []
          },
          "execution_count": 52
        },
        {
          "output_type": "display_data",
          "data": {
            "image/png": "[encoded data removed]",
            "text/plain": [
              "<Figure size 432x288 with 1 Axes>"
            ]
          },
          "metadata": {
            "tags": []
          }
        }
      ]
    },
    {
      "cell_type": "markdown",
      "metadata": {
        "id": "e5_Qu3qQj500",
        "colab_type": "text"
      },
      "source": [
        "Adding callback"
      ]
    },
    {
      "cell_type": "code",
      "metadata": {
        "id": "BMlPKUbmj_H2",
        "colab_type": "code",
        "colab": {
          "base_uri": "https://localhost:8080/",
          "height": 537
        },
        "outputId": "7c38f8c3-826b-4609-a9b0-286a193ebb75"
      },
      "source": [
        "class mycallback(tf.keras.callbacks.Callback):\n",
        "  def on_epoch_end(self,epoch,logs={}):\n",
        "    if(logs.get('loss')<0.4):\n",
        "      print(\" \\n Reached 60% of accuracy so cancelling trainig\")\n",
        "      self.model.stop_training=True\n",
        "\n",
        "callbacks=mycallback()\n",
        "model=keras.Sequential()\n",
        "model.add(keras.layers.Flatten())\n",
        "model.add(keras.layers.Dense(128,activation=tf.nn.relu))\n",
        "model.add(keras.layers.Dense(10,activation=tf.nn.softmax))\n",
        "model.compile(optimizer=tf.optimizers.Adam(),loss='sparse_categorical_crossentropy',metrics=['accuracy'])\n",
        "model.fit(x_train,y_train,batch_size=128,epochs=5,callbacks=[callbacks])\n",
        "print(\"%%%%%%%%%%%%%%%%%%%%%%%%%%%%%%%%%%%%\")\n",
        "print(\"evaluation\")\n",
        "model.evaluate(x_test,y_test)\n",
        "classification=model.predict(x_test)\n",
        "print(\"predicted_probabilites_label 0\"+str(classification[0]))\n",
        "print(\"y_predicted_label_0\"+str(np.argmax(classification[0])))\n",
        "print(\"y_test_label 0\"+str(y_test[0]))\n",
        "plt.style.use(\"dark_background\")\n",
        "plt.bar(np.arange(0,10),classification[0])"
      ],
      "execution_count": 53,
      "outputs": [
        {
          "output_type": "stream",
          "text": [
            "Epoch 1/5\n",
            "469/469 [==============================] - 1s 2ms/step - loss: 0.5571 - accuracy: 0.8111\n",
            "Epoch 2/5\n",
            "469/469 [==============================] - 1s 2ms/step - loss: 0.4094 - accuracy: 0.8580\n",
            "Epoch 3/5\n",
            "449/469 [===========================>..] - ETA: 0s - loss: 0.3683 - accuracy: 0.8700 \n",
            " Reached 60% of accuracy so cancelling trainig\n",
            "469/469 [==============================] - 1s 2ms/step - loss: 0.3671 - accuracy: 0.8700\n",
            "%%%%%%%%%%%%%%%%%%%%%%%%%%%%%%%%%%%%\n",
            "evaluation\n",
            "313/313 [==============================] - 0s 2ms/step - loss: 0.3986 - accuracy: 0.8608\n",
            "predicted_probabilites_label 0[4.1058156e-05 3.9686915e-07 1.6974735e-05 4.5131919e-06 1.2579927e-05\n",
            " 4.3068964e-02 6.2024948e-05 1.0949198e-01 4.2551407e-03 8.4304637e-01]\n",
            "y_predicted_label_09\n",
            "y_test_label 09\n"
          ],
          "name": "stdout"
        },
        {
          "output_type": "execute_result",
          "data": {
            "text/plain": [
              "<BarContainer object of 10 artists>"
            ]
          },
          "metadata": {
            "tags": []
          },
          "execution_count": 53
        },
        {
          "output_type": "display_data",
          "data": {
            "image/png": "[encoded data removed]",
            "text/plain": [
              "<Figure size 432x288 with 1 Axes>"
            ]
          },
          "metadata": {
            "tags": []
          }
        }
      ]
    },
    {
      "cell_type": "markdown",
      "metadata": {
        "id": "v45sBWXPh8w7",
        "colab_type": "text"
      },
      "source": [
        "Increasing number of neurons=256"
      ]
    },
    {
      "cell_type": "code",
      "metadata": {
        "id": "vad9Tlg6h4mB",
        "colab_type": "code",
        "colab": {
          "base_uri": "https://localhost:8080/",
          "height": 571
        },
        "outputId": "8fea0ad0-93a9-4023-a7c9-7a6b61830444"
      },
      "source": [
        "model=keras.Sequential()\n",
        "model.add(keras.layers.Flatten())\n",
        "model.add(keras.layers.Dense(128,activation=tf.nn.relu))\n",
        "model.add(keras.layers.Dense(10,activation=tf.nn.softmax))\n",
        "model.compile(optimizer=tf.optimizers.Adam(),loss='sparse_categorical_crossentropy',metrics=['accuracy'])\n",
        "model.fit(x_train,y_train,batch_size=256,epochs=5)\n",
        "print(\"%%%%%%%%%%%%%%%%%%%%%%%%%%%%%%%%%%%%\")\n",
        "print(\"evaluation\")\n",
        "model.evaluate(x_test,y_test)\n",
        "classification=model.predict(x_test)\n",
        "print(\"predicted_probabilites_label 0\"+str(classification[0]))\n",
        "print(\"y_predicted_label_0\"+str(np.argmax(classification[0])))\n",
        "print(\"y_test_label 0\"+str(y_test[0]))\n",
        "plt.style.use(\"dark_background\")\n",
        "plt.bar(np.arange(0,10),classification[0])"
      ],
      "execution_count": 47,
      "outputs": [
        {
          "output_type": "stream",
          "text": [
            "Epoch 1/5\n",
            "235/235 [==============================] - 1s 2ms/step - loss: 0.6261 - accuracy: 0.7881\n",
            "Epoch 2/5\n",
            "235/235 [==============================] - 1s 2ms/step - loss: 0.4293 - accuracy: 0.8513\n",
            "Epoch 3/5\n",
            "235/235 [==============================] - 1s 2ms/step - loss: 0.3863 - accuracy: 0.8642\n",
            "Epoch 4/5\n",
            "235/235 [==============================] - 1s 2ms/step - loss: 0.3597 - accuracy: 0.8712\n",
            "Epoch 5/5\n",
            "235/235 [==============================] - 1s 2ms/step - loss: 0.3460 - accuracy: 0.8762\n",
            "%%%%%%%%%%%%%%%%%%%%%%%%%%%%%%%%%%%%\n",
            "evaluation\n",
            "313/313 [==============================] - 0s 2ms/step - loss: 0.4066 - accuracy: 0.8558\n",
            "predicted_probabilites_label 0[9.6501417e-06 2.1656609e-07 1.4565873e-05 5.7238040e-06 3.3669473e-06\n",
            " 3.3447139e-02 1.9012488e-05 8.9583158e-02 7.9325569e-04 8.7612391e-01]\n",
            "y_predicted_label_09\n",
            "y_test_label 09\n"
          ],
          "name": "stdout"
        },
        {
          "output_type": "execute_result",
          "data": {
            "text/plain": [
              "<BarContainer object of 10 artists>"
            ]
          },
          "metadata": {
            "tags": []
          },
          "execution_count": 47
        },
        {
          "output_type": "display_data",
          "data": {
            "image/png": "[encoded data removed]",
            "text/plain": [
              "<Figure size 432x288 with 1 Axes>"
            ]
          },
          "metadata": {
            "tags": []
          }
        }
      ]
    },
    {
      "cell_type": "markdown",
      "metadata": {
        "id": "i27HYB7lh_Rb",
        "colab_type": "text"
      },
      "source": [
        "Increasing number of neurons=512"
      ]
    },
    {
      "cell_type": "code",
      "metadata": {
        "id": "nGOsZed9iFG8",
        "colab_type": "code",
        "colab": {
          "base_uri": "https://localhost:8080/",
          "height": 571
        },
        "outputId": "913b7ec8-25e1-4f65-fbe0-17962f83fe7f"
      },
      "source": [
        "model=keras.Sequential()\n",
        "model.add(keras.layers.Flatten())\n",
        "model.add(keras.layers.Dense(512,activation=tf.nn.relu))\n",
        "model.add(keras.layers.Dense(10,activation=tf.nn.softmax))\n",
        "model.compile(optimizer=tf.optimizers.Adam(),loss='sparse_categorical_crossentropy',metrics=['accuracy'])\n",
        "model.fit(x_train,y_train,batch_size=128,epochs=5)\n",
        "print(\"%%%%%%%%%%%%%%%%%%%%%%%%%%%%%%%%%%%%\")\n",
        "print(\"evaluation\")\n",
        "model.evaluate(x_test,y_test)\n",
        "classification=model.predict(x_test)\n",
        "print(\"predicted_probabilites_label 0\"+str(classification[0]))\n",
        "print(\"y_predicted_label_0\"+str(np.argmax(classification[0])))\n",
        "print(\"y_test_label 0\"+str(y_test[0]))\n",
        "plt.style.use(\"dark_background\")\n",
        "plt.bar(np.arange(0,10),classification[0])"
      ],
      "execution_count": 48,
      "outputs": [
        {
          "output_type": "stream",
          "text": [
            "Epoch 1/5\n",
            "469/469 [==============================] - 1s 2ms/step - loss: 0.5071 - accuracy: 0.8217\n",
            "Epoch 2/5\n",
            "469/469 [==============================] - 1s 2ms/step - loss: 0.3730 - accuracy: 0.8655\n",
            "Epoch 3/5\n",
            "469/469 [==============================] - 1s 2ms/step - loss: 0.3312 - accuracy: 0.8796\n",
            "Epoch 4/5\n",
            "469/469 [==============================] - 1s 2ms/step - loss: 0.3049 - accuracy: 0.8888\n",
            "Epoch 5/5\n",
            "469/469 [==============================] - 1s 2ms/step - loss: 0.2838 - accuracy: 0.8954\n",
            "%%%%%%%%%%%%%%%%%%%%%%%%%%%%%%%%%%%%\n",
            "evaluation\n",
            "313/313 [==============================] - 0s 2ms/step - loss: 0.3364 - accuracy: 0.8802\n",
            "predicted_probabilites_label 0[2.1794171e-05 1.0127263e-06 8.6551854e-06 7.2210305e-06 8.2471593e-07\n",
            " 1.2499332e-02 1.4636771e-05 1.0898021e-01 8.7384273e-05 8.7837887e-01]\n",
            "y_predicted_label_09\n",
            "y_test_label 09\n"
          ],
          "name": "stdout"
        },
        {
          "output_type": "execute_result",
          "data": {
            "text/plain": [
              "<BarContainer object of 10 artists>"
            ]
          },
          "metadata": {
            "tags": []
          },
          "execution_count": 48
        },
        {
          "output_type": "display_data",
          "data": {
            "image/png": "[encoded data removed]",
            "text/plain": [
              "<Figure size 432x288 with 1 Axes>"
            ]
          },
          "metadata": {
            "tags": []
          }
        }
      ]
    },
    {
      "cell_type": "markdown",
      "metadata": {
        "id": "b629WSqrgiFC",
        "colab_type": "text"
      },
      "source": [
        "Adding extra layers in between"
      ]
    },
    {
      "cell_type": "code",
      "metadata": {
        "id": "JRIZ1OTGemVA",
        "colab_type": "code",
        "colab": {
          "base_uri": "https://localhost:8080/",
          "height": 588
        },
        "outputId": "c9a837b9-26e0-4480-c8fb-f5c6068ed332"
      },
      "source": [
        "model=keras.Sequential()\n",
        "model.add(keras.layers.Flatten())\n",
        "model.add(keras.layers.Dense(512,activation=tf.nn.relu))\n",
        "model.add(keras.layers.Dense(256,activation=tf.nn.relu))\n",
        "model.add(keras.layers.Dense(10,activation=tf.nn.softmax))\n",
        "model.compile(optimizer=tf.optimizers.Adam(),loss='sparse_categorical_crossentropy',metrics=['accuracy'])\n",
        "model.fit(x_train,y_train,batch_size=128,epochs=5)\n",
        "print(\"%%%%%%%%%%%%%%%%%%%%%%%%%%%%%%%%%%%%\")\n",
        "print(\"evaluation\")\n",
        "model.evaluate(x_test,y_test)\n",
        "classification=model.predict(x_test)\n",
        "print(\"predicted_probabilites_label 0\"+str(classification[0]))\n",
        "print(\"y_predicted_label_0\"+str(np.argmax(classification[0])))\n",
        "print(\"y_test_label 0\"+str(y_test[0]))\n",
        "plt.style.use(\"dark_background\")\n",
        "plt.bar(np.arange(0,10),classification[0])"
      ],
      "execution_count": 45,
      "outputs": [
        {
          "output_type": "stream",
          "text": [
            "Epoch 1/5\n",
            "469/469 [==============================] - 1s 2ms/step - loss: 0.4878 - accuracy: 0.8263\n",
            "Epoch 2/5\n",
            "469/469 [==============================] - 1s 2ms/step - loss: 0.3570 - accuracy: 0.8695\n",
            "Epoch 3/5\n",
            "469/469 [==============================] - 1s 2ms/step - loss: 0.3151 - accuracy: 0.8841\n",
            "Epoch 4/5\n",
            "469/469 [==============================] - 1s 2ms/step - loss: 0.2986 - accuracy: 0.8893\n",
            "Epoch 5/5\n",
            "469/469 [==============================] - 1s 2ms/step - loss: 0.2766 - accuracy: 0.8965\n",
            "%%%%%%%%%%%%%%%%%%%%%%%%%%%%%%%%%%%%\n",
            "evaluation\n",
            "313/313 [==============================] - 0s 2ms/step - loss: 0.3701 - accuracy: 0.8701\n",
            "predicted_probabilites_label 0[1.65682167e-07 6.25127328e-08 6.48320793e-08 2.29096759e-08\n",
            " 2.93917033e-08 3.27259972e-04 1.07497684e-07 2.99943853e-02\n",
            " 6.38588631e-08 9.69677806e-01]\n",
            "y_predicted_label_09\n",
            "y_test_label 09\n"
          ],
          "name": "stdout"
        },
        {
          "output_type": "execute_result",
          "data": {
            "text/plain": [
              "<BarContainer object of 10 artists>"
            ]
          },
          "metadata": {
            "tags": []
          },
          "execution_count": 45
        },
        {
          "output_type": "display_data",
          "data": {
            "image/png": "[encoded data removed]",
            "text/plain": [
              "<Figure size 432x288 with 1 Axes>"
            ]
          },
          "metadata": {
            "tags": []
          }
        }
      ]
    },
    {
      "cell_type": "code",
      "metadata": {
        "id": "GrFpbReThSDP",
        "colab_type": "code",
        "colab": {}
      },
      "source": [
        ""
      ],
      "execution_count": 0,
      "outputs": []
    }
  ]
}